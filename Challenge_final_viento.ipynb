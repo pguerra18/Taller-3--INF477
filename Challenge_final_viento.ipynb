{
  "nbformat": 4,
  "nbformat_minor": 0,
  "metadata": {
    "colab": {
      "name": "Challenge_final.ipynb",
      "provenance": [],
      "collapsed_sections": [],
      "toc_visible": true
    },
    "kernelspec": {
      "name": "python3",
      "display_name": "Python 3"
    },
    "language_info": {
      "name": "python"
    },
    "accelerator": "TPU"
  },
  "cells": [
    {
      "cell_type": "markdown",
      "metadata": {
        "id": "NBuuAANyA1p4"
      },
      "source": [
        "<H3 align='center'> Challenge Kaggle - Predicción velocidad del viento </H3>\n",
        "<hr style=\"height:2px;border:none\"/>\n",
        "\n",
        "**Integrantes:** \\\\\n",
        "\n",
        "**Daniel Peralta**  -  201621053-9 \\\\\n",
        "**Philip Guerra**   -  201623003-3"
      ]
    },
    {
      "cell_type": "markdown",
      "metadata": {
        "id": "t5_ogyiSONb6"
      },
      "source": [
        "El desafío consiste en predecir la velocidad media del viento a 20 metros de altura en diferentes instantes de tiempo."
      ]
    },
    {
      "cell_type": "markdown",
      "metadata": {
        "id": "yux6A-LzBEUu"
      },
      "source": [
        "Se cargan los datos:"
      ]
    },
    {
      "cell_type": "code",
      "metadata": {
        "id": "ux0RAxpkD3Sw"
      },
      "source": [
        "#\n",
        "import pandas as pd\n",
        "import numpy as np\n",
        "import seaborn as sns; sns.set()\n",
        "import matplotlib.pyplot as plt\n",
        "import matplotlib.gridspec as gridspec\n",
        "\n",
        "\n",
        "#Para trabajar sobre imagenes\n",
        "import cv2\n",
        "import random\n",
        "import os\n",
        "import matplotlib.image as mpimg\n",
        "from PIL import Image, ImageOps\n",
        "import matplotlib.pyplot as plt\n",
        "import seaborn as sns\n",
        "from sklearn.preprocessing import StandardScaler \n",
        "from sklearn.model_selection import train_test_split \n",
        "from sklearn.metrics import classification_report\n",
        "\n",
        "#datatime\n",
        "import datetime as dt\n",
        "\n",
        "#tensorflow\n",
        "import tensorflow as tf\n",
        "from tensorflow import keras\n",
        "from tensorflow.keras.models import Sequential\n",
        "from tensorflow.keras import layers\n",
        "from tensorflow.keras.layers import MaxPooling2D, Dense, Dropout,Flatten, Conv2D\n",
        "from tensorflow.keras.optimizers import Adam\n",
        "from tensorflow.keras.losses import SparseCategoricalCrossentropy\n",
        "from keras.preprocessing.image import ImageDataGenerator\n",
        "from tensorflow.keras.callbacks import TensorBoard,EarlyStopping"
      ],
      "execution_count": 1,
      "outputs": []
    },
    {
      "cell_type": "code",
      "metadata": {
        "colab": {
          "base_uri": "https://localhost:8080/"
        },
        "id": "EdhaMWoHFjVl",
        "outputId": "e3824be8-e0d1-4d61-a464-0565ef93bb12"
      },
      "source": [
        "#montamos google drive\n",
        "from google.colab import drive\n",
        "\n",
        "colab_flag = True\n",
        "\n",
        "if (colab_flag):\n",
        "    drive.mount('/content/drive')\n",
        "\n",
        "\n",
        "path = '/content/drive/MyDrive/2021-1/Redes_neuronales_artificiales/Tarea3/'"
      ],
      "execution_count": 2,
      "outputs": [
        {
          "output_type": "stream",
          "text": [
            "Mounted at /content/drive\n"
          ],
          "name": "stdout"
        }
      ]
    },
    {
      "cell_type": "code",
      "metadata": {
        "colab": {
          "base_uri": "https://localhost:8080/",
          "height": 224
        },
        "id": "y_TZ9unDF5Zy",
        "outputId": "5b2bf268-bc7d-437e-f6a5-9cedce90166b"
      },
      "source": [
        "# se cargan los datos\n",
        "data_train = pd.read_csv(path+'windspeed-training2.csv' ,header=1,engine='python')\n",
        "print(data_train.shape)\n",
        "data_train.head()"
      ],
      "execution_count": 3,
      "outputs": [
        {
          "output_type": "stream",
          "text": [
            "(123363, 2)\n"
          ],
          "name": "stdout"
        },
        {
          "output_type": "execute_result",
          "data": {
            "text/html": [
              "<div>\n",
              "<style scoped>\n",
              "    .dataframe tbody tr th:only-of-type {\n",
              "        vertical-align: middle;\n",
              "    }\n",
              "\n",
              "    .dataframe tbody tr th {\n",
              "        vertical-align: top;\n",
              "    }\n",
              "\n",
              "    .dataframe thead th {\n",
              "        text-align: right;\n",
              "    }\n",
              "</style>\n",
              "<table border=\"1\" class=\"dataframe\">\n",
              "  <thead>\n",
              "    <tr style=\"text-align: right;\">\n",
              "      <th></th>\n",
              "      <th>2012-12-19 00:10</th>\n",
              "      <th>12.4</th>\n",
              "    </tr>\n",
              "  </thead>\n",
              "  <tbody>\n",
              "    <tr>\n",
              "      <th>0</th>\n",
              "      <td>2012-12-19 00:20</td>\n",
              "      <td>11.4</td>\n",
              "    </tr>\n",
              "    <tr>\n",
              "      <th>1</th>\n",
              "      <td>2012-12-19 00:30</td>\n",
              "      <td>11.8</td>\n",
              "    </tr>\n",
              "    <tr>\n",
              "      <th>2</th>\n",
              "      <td>2012-12-19 00:40</td>\n",
              "      <td>11.6</td>\n",
              "    </tr>\n",
              "    <tr>\n",
              "      <th>3</th>\n",
              "      <td>2012-12-19 00:50</td>\n",
              "      <td>11.0</td>\n",
              "    </tr>\n",
              "    <tr>\n",
              "      <th>4</th>\n",
              "      <td>2012-12-19 01:00</td>\n",
              "      <td>11.5</td>\n",
              "    </tr>\n",
              "  </tbody>\n",
              "</table>\n",
              "</div>"
            ],
            "text/plain": [
              "   2012-12-19 00:10  12.4\n",
              "0  2012-12-19 00:20  11.4\n",
              "1  2012-12-19 00:30  11.8\n",
              "2  2012-12-19 00:40  11.6\n",
              "3  2012-12-19 00:50  11.0\n",
              "4  2012-12-19 01:00  11.5"
            ]
          },
          "metadata": {
            "tags": []
          },
          "execution_count": 3
        }
      ]
    },
    {
      "cell_type": "markdown",
      "metadata": {
        "id": "DNeNnDzeDdwI"
      },
      "source": [
        "Las principales ideas para el desafío son:\n",
        "\n",
        "\n",
        "*   Trabajar los missing values de la serie de tiempo.\n",
        "*   Visualizar la media y desviación estandar por hora y mes.\n",
        "*   Probar una red LSTM con una función de costo MSE.\n",
        "*   Explorar el comportamiento de una red GRU comparado con la LSTM. \n",
        "*   Comparar las redes recurrentes creadas con una clásica regresión lineal mediante mínimos cuadrados.\n",
        "\n"
      ]
    },
    {
      "cell_type": "markdown",
      "metadata": {
        "id": "9z5pY-WuzP6f"
      },
      "source": [
        "## Pre-procesamiento de datos"
      ]
    },
    {
      "cell_type": "markdown",
      "metadata": {
        "id": "CzBy2ctVXTnn"
      },
      "source": [
        "En primera instancia se grafica los datos a través del tiempo para observar su comportamiento."
      ]
    },
    {
      "cell_type": "code",
      "metadata": {
        "colab": {
          "base_uri": "https://localhost:8080/",
          "height": 594
        },
        "id": "gBAV1XlyUvNW",
        "outputId": "a83f8fe3-ee23-42a4-834f-1d0d96858c05"
      },
      "source": [
        "\n",
        "largo = data_train.shape[0]\n",
        "x = np.zeros(largo)\n",
        "plt.figure(figsize=(20, 10))\n",
        "plt.plot(data_train['12.4'])\n",
        "plt.ylabel('Wind speed (m/s)')\n",
        "plt.show()"
      ],
      "execution_count": 4,
      "outputs": [
        {
          "output_type": "display_data",
          "data": {
            "image/png": "[encoded data removed]",
            "text/plain": [
              "<Figure size 1440x720 with 1 Axes>"
            ]
          },
          "metadata": {
            "tags": [],
            "needs_background": "light"
          }
        }
      ]
    },
    {
      "cell_type": "code",
      "metadata": {
        "colab": {
          "base_uri": "https://localhost:8080/",
          "height": 422
        },
        "id": "3jbxW1-VWVSH",
        "outputId": "46050318-8ef6-4951-87d3-5961dee5e417"
      },
      "source": [
        "data_train.columns = ['Fecha', 'velocidad']\n",
        "data_train"
      ],
      "execution_count": 5,
      "outputs": [
        {
          "output_type": "execute_result",
          "data": {
            "text/html": [
              "<div>\n",
              "<style scoped>\n",
              "    .dataframe tbody tr th:only-of-type {\n",
              "        vertical-align: middle;\n",
              "    }\n",
              "\n",
              "    .dataframe tbody tr th {\n",
              "        vertical-align: top;\n",
              "    }\n",
              "\n",
              "    .dataframe thead th {\n",
              "        text-align: right;\n",
              "    }\n",
              "</style>\n",
              "<table border=\"1\" class=\"dataframe\">\n",
              "  <thead>\n",
              "    <tr style=\"text-align: right;\">\n",
              "      <th></th>\n",
              "      <th>Fecha</th>\n",
              "      <th>velocidad</th>\n",
              "    </tr>\n",
              "  </thead>\n",
              "  <tbody>\n",
              "    <tr>\n",
              "      <th>0</th>\n",
              "      <td>2012-12-19 00:20</td>\n",
              "      <td>11.4</td>\n",
              "    </tr>\n",
              "    <tr>\n",
              "      <th>1</th>\n",
              "      <td>2012-12-19 00:30</td>\n",
              "      <td>11.8</td>\n",
              "    </tr>\n",
              "    <tr>\n",
              "      <th>2</th>\n",
              "      <td>2012-12-19 00:40</td>\n",
              "      <td>11.6</td>\n",
              "    </tr>\n",
              "    <tr>\n",
              "      <th>3</th>\n",
              "      <td>2012-12-19 00:50</td>\n",
              "      <td>11.0</td>\n",
              "    </tr>\n",
              "    <tr>\n",
              "      <th>4</th>\n",
              "      <td>2012-12-19 01:00</td>\n",
              "      <td>11.5</td>\n",
              "    </tr>\n",
              "    <tr>\n",
              "      <th>...</th>\n",
              "      <td>...</td>\n",
              "      <td>...</td>\n",
              "    </tr>\n",
              "    <tr>\n",
              "      <th>123358</th>\n",
              "      <td>2015-04-24 23:10</td>\n",
              "      <td>0.5</td>\n",
              "    </tr>\n",
              "    <tr>\n",
              "      <th>123359</th>\n",
              "      <td>2015-04-24 23:20</td>\n",
              "      <td>0.7</td>\n",
              "    </tr>\n",
              "    <tr>\n",
              "      <th>123360</th>\n",
              "      <td>2015-04-24 23:30</td>\n",
              "      <td>1.3</td>\n",
              "    </tr>\n",
              "    <tr>\n",
              "      <th>123361</th>\n",
              "      <td>2015-04-24 23:40</td>\n",
              "      <td>2.6</td>\n",
              "    </tr>\n",
              "    <tr>\n",
              "      <th>123362</th>\n",
              "      <td>2015-04-24 23:50</td>\n",
              "      <td>4.2</td>\n",
              "    </tr>\n",
              "  </tbody>\n",
              "</table>\n",
              "<p>123363 rows × 2 columns</p>\n",
              "</div>"
            ],
            "text/plain": [
              "                   Fecha  velocidad\n",
              "0       2012-12-19 00:20       11.4\n",
              "1       2012-12-19 00:30       11.8\n",
              "2       2012-12-19 00:40       11.6\n",
              "3       2012-12-19 00:50       11.0\n",
              "4       2012-12-19 01:00       11.5\n",
              "...                  ...        ...\n",
              "123358  2015-04-24 23:10        0.5\n",
              "123359  2015-04-24 23:20        0.7\n",
              "123360  2015-04-24 23:30        1.3\n",
              "123361  2015-04-24 23:40        2.6\n",
              "123362  2015-04-24 23:50        4.2\n",
              "\n",
              "[123363 rows x 2 columns]"
            ]
          },
          "metadata": {
            "tags": []
          },
          "execution_count": 5
        }
      ]
    },
    {
      "cell_type": "markdown",
      "metadata": {
        "id": "E0L98CGMXgWC"
      },
      "source": [
        "Se crea un nuevo data time desde la primera fecha del data_train hasta el último de este."
      ]
    },
    {
      "cell_type": "code",
      "metadata": {
        "colab": {
          "base_uri": "https://localhost:8080/",
          "height": 422
        },
        "id": "HUhvQr4n6P0D",
        "outputId": "828ed86b-5f22-4238-b355-1f31714deab4"
      },
      "source": [
        "# date = dt.datetime.today() - dt.timedelta(days=1)\n",
        "# date.month\n",
        "date = dt.datetime(2012, 12, 19) + dt.timedelta(minutes=20)\n",
        "super_date = pd.date_range(date, periods=(123363+43), freq='10min')\n",
        "data_time = super_date.strftime(\"%Y-%m-%d %H:%M\")\n",
        "df = pd.DataFrame(data_time)\n",
        "df.columns = ['Fecha']\n",
        "df"
      ],
      "execution_count": 6,
      "outputs": [
        {
          "output_type": "execute_result",
          "data": {
            "text/html": [
              "<div>\n",
              "<style scoped>\n",
              "    .dataframe tbody tr th:only-of-type {\n",
              "        vertical-align: middle;\n",
              "    }\n",
              "\n",
              "    .dataframe tbody tr th {\n",
              "        vertical-align: top;\n",
              "    }\n",
              "\n",
              "    .dataframe thead th {\n",
              "        text-align: right;\n",
              "    }\n",
              "</style>\n",
              "<table border=\"1\" class=\"dataframe\">\n",
              "  <thead>\n",
              "    <tr style=\"text-align: right;\">\n",
              "      <th></th>\n",
              "      <th>Fecha</th>\n",
              "    </tr>\n",
              "  </thead>\n",
              "  <tbody>\n",
              "    <tr>\n",
              "      <th>0</th>\n",
              "      <td>2012-12-19 00:20</td>\n",
              "    </tr>\n",
              "    <tr>\n",
              "      <th>1</th>\n",
              "      <td>2012-12-19 00:30</td>\n",
              "    </tr>\n",
              "    <tr>\n",
              "      <th>2</th>\n",
              "      <td>2012-12-19 00:40</td>\n",
              "    </tr>\n",
              "    <tr>\n",
              "      <th>3</th>\n",
              "      <td>2012-12-19 00:50</td>\n",
              "    </tr>\n",
              "    <tr>\n",
              "      <th>4</th>\n",
              "      <td>2012-12-19 01:00</td>\n",
              "    </tr>\n",
              "    <tr>\n",
              "      <th>...</th>\n",
              "      <td>...</td>\n",
              "    </tr>\n",
              "    <tr>\n",
              "      <th>123401</th>\n",
              "      <td>2015-04-24 23:10</td>\n",
              "    </tr>\n",
              "    <tr>\n",
              "      <th>123402</th>\n",
              "      <td>2015-04-24 23:20</td>\n",
              "    </tr>\n",
              "    <tr>\n",
              "      <th>123403</th>\n",
              "      <td>2015-04-24 23:30</td>\n",
              "    </tr>\n",
              "    <tr>\n",
              "      <th>123404</th>\n",
              "      <td>2015-04-24 23:40</td>\n",
              "    </tr>\n",
              "    <tr>\n",
              "      <th>123405</th>\n",
              "      <td>2015-04-24 23:50</td>\n",
              "    </tr>\n",
              "  </tbody>\n",
              "</table>\n",
              "<p>123406 rows × 1 columns</p>\n",
              "</div>"
            ],
            "text/plain": [
              "                   Fecha\n",
              "0       2012-12-19 00:20\n",
              "1       2012-12-19 00:30\n",
              "2       2012-12-19 00:40\n",
              "3       2012-12-19 00:50\n",
              "4       2012-12-19 01:00\n",
              "...                  ...\n",
              "123401  2015-04-24 23:10\n",
              "123402  2015-04-24 23:20\n",
              "123403  2015-04-24 23:30\n",
              "123404  2015-04-24 23:40\n",
              "123405  2015-04-24 23:50\n",
              "\n",
              "[123406 rows x 1 columns]"
            ]
          },
          "metadata": {
            "tags": []
          },
          "execution_count": 6
        }
      ]
    },
    {
      "cell_type": "markdown",
      "metadata": {
        "id": "psuwhK-NYhbl"
      },
      "source": [
        "Al observar los dos conjuntos de datos, se tiene que hay diferencia en la cantidad de datos. Esto da a entender que hay *missing values*, los que habrá que buscar y completar con un valor."
      ]
    },
    {
      "cell_type": "code",
      "metadata": {
        "id": "cAHIl4acgIlZ"
      },
      "source": [
        "lista_missing=[]  #estarán las fechas que faltan para el data_train\n",
        "train_list = data_train.Fecha.to_list()\n",
        "for k in df.Fecha:\n",
        "  if k not in train_list:\n",
        "    lista_missing.append(k)"
      ],
      "execution_count": 7,
      "outputs": []
    },
    {
      "cell_type": "code",
      "metadata": {
        "colab": {
          "base_uri": "https://localhost:8080/"
        },
        "id": "Hbm9b4SGiShO",
        "outputId": "3ef09ba3-0b1c-463f-f457-e909a8fca3bf"
      },
      "source": [
        "lista_missing"
      ],
      "execution_count": 8,
      "outputs": [
        {
          "output_type": "execute_result",
          "data": {
            "text/plain": [
              "['2014-01-09 16:50',\n",
              " '2014-01-09 17:00',\n",
              " '2014-01-09 17:10',\n",
              " '2014-01-09 17:20',\n",
              " '2014-01-09 17:30',\n",
              " '2014-01-09 17:40',\n",
              " '2014-01-09 17:50',\n",
              " '2014-01-09 18:00',\n",
              " '2014-01-09 18:10',\n",
              " '2014-01-09 18:20',\n",
              " '2014-01-09 18:30',\n",
              " '2014-01-09 18:40',\n",
              " '2014-01-09 18:50',\n",
              " '2014-01-09 19:00',\n",
              " '2014-01-09 19:10',\n",
              " '2014-01-09 19:20',\n",
              " '2014-01-09 19:30',\n",
              " '2014-01-09 19:40',\n",
              " '2014-01-09 19:50',\n",
              " '2014-01-09 20:00',\n",
              " '2014-01-09 20:10',\n",
              " '2014-01-09 20:20',\n",
              " '2014-01-09 20:30',\n",
              " '2014-01-09 20:40',\n",
              " '2014-01-09 20:50',\n",
              " '2014-01-09 21:00',\n",
              " '2014-01-09 21:10',\n",
              " '2014-01-09 21:20',\n",
              " '2014-01-09 21:30',\n",
              " '2014-01-09 21:40',\n",
              " '2014-01-09 21:50',\n",
              " '2014-01-09 22:00',\n",
              " '2014-01-09 22:10',\n",
              " '2014-01-09 22:20',\n",
              " '2014-01-09 22:30',\n",
              " '2014-01-09 22:40',\n",
              " '2014-01-09 22:50',\n",
              " '2014-01-09 23:00',\n",
              " '2014-01-09 23:10',\n",
              " '2014-01-09 23:20',\n",
              " '2014-01-09 23:30',\n",
              " '2014-01-09 23:40',\n",
              " '2014-01-09 23:50']"
            ]
          },
          "metadata": {
            "tags": []
          },
          "execution_count": 8
        }
      ]
    },
    {
      "cell_type": "markdown",
      "metadata": {
        "id": "ktDh58Y_p8vl"
      },
      "source": [
        "Para completar los *missing values* se considerará un promedio entre la velocidad del viento que había el día antes y el día después, tomando en cuenta la misma hora. Se crea una lista para el dia anterior y después con la misma hora:"
      ]
    },
    {
      "cell_type": "code",
      "metadata": {
        "id": "dJo85Os_p1am"
      },
      "source": [
        "date = dt.datetime(2014, 1, 8) + dt.timedelta(hours=16) + dt.timedelta(minutes=50)\n",
        "super_date = pd.date_range(date, periods=(len(lista_missing)), freq='10min')\n",
        "data_time_1 = super_date.strftime(\"%Y-%m-%d %H:%M\")\n",
        "df1 = pd.DataFrame(data_time_1)\n",
        "df1.columns = ['Fecha']\n",
        "\n",
        "date = dt.datetime(2014, 1, 10) + dt.timedelta(hours=16) + dt.timedelta(minutes=50)\n",
        "super_date = pd.date_range(date, periods=(len(lista_missing)), freq='10min')\n",
        "data_time_2 = super_date.strftime(\"%Y-%m-%d %H:%M\")\n",
        "df2 = pd.DataFrame(data_time_2)\n",
        "df2.columns = ['Fecha']"
      ],
      "execution_count": 9,
      "outputs": []
    },
    {
      "cell_type": "code",
      "metadata": {
        "colab": {
          "base_uri": "https://localhost:8080/"
        },
        "id": "frw1KMrhq0mP",
        "outputId": "d804998e-a40d-44c0-be16-00d7dafbe3d6"
      },
      "source": [
        "df1.Fecha.to_list()"
      ],
      "execution_count": 10,
      "outputs": [
        {
          "output_type": "execute_result",
          "data": {
            "text/plain": [
              "['2014-01-08 16:50',\n",
              " '2014-01-08 17:00',\n",
              " '2014-01-08 17:10',\n",
              " '2014-01-08 17:20',\n",
              " '2014-01-08 17:30',\n",
              " '2014-01-08 17:40',\n",
              " '2014-01-08 17:50',\n",
              " '2014-01-08 18:00',\n",
              " '2014-01-08 18:10',\n",
              " '2014-01-08 18:20',\n",
              " '2014-01-08 18:30',\n",
              " '2014-01-08 18:40',\n",
              " '2014-01-08 18:50',\n",
              " '2014-01-08 19:00',\n",
              " '2014-01-08 19:10',\n",
              " '2014-01-08 19:20',\n",
              " '2014-01-08 19:30',\n",
              " '2014-01-08 19:40',\n",
              " '2014-01-08 19:50',\n",
              " '2014-01-08 20:00',\n",
              " '2014-01-08 20:10',\n",
              " '2014-01-08 20:20',\n",
              " '2014-01-08 20:30',\n",
              " '2014-01-08 20:40',\n",
              " '2014-01-08 20:50',\n",
              " '2014-01-08 21:00',\n",
              " '2014-01-08 21:10',\n",
              " '2014-01-08 21:20',\n",
              " '2014-01-08 21:30',\n",
              " '2014-01-08 21:40',\n",
              " '2014-01-08 21:50',\n",
              " '2014-01-08 22:00',\n",
              " '2014-01-08 22:10',\n",
              " '2014-01-08 22:20',\n",
              " '2014-01-08 22:30',\n",
              " '2014-01-08 22:40',\n",
              " '2014-01-08 22:50',\n",
              " '2014-01-08 23:00',\n",
              " '2014-01-08 23:10',\n",
              " '2014-01-08 23:20',\n",
              " '2014-01-08 23:30',\n",
              " '2014-01-08 23:40',\n",
              " '2014-01-08 23:50']"
            ]
          },
          "metadata": {
            "tags": []
          },
          "execution_count": 10
        }
      ]
    },
    {
      "cell_type": "code",
      "metadata": {
        "id": "kXE0aGDhtaoS"
      },
      "source": [
        "#creamos un diccionario del data_train\n",
        "res = {data_train.Fecha[i]: data_train.velocidad[i] for i in range(len(data_train))}"
      ],
      "execution_count": 11,
      "outputs": []
    },
    {
      "cell_type": "markdown",
      "metadata": {
        "id": "WVps00UdoGi4"
      },
      "source": [
        "Se agregan los *missing values* como el promedio del valor del día anterior y posterior para la misma hora."
      ]
    },
    {
      "cell_type": "code",
      "metadata": {
        "id": "ofqrs3-sog3l"
      },
      "source": [
        "#data_viento = np.zeros(len(df))\n",
        "data_viento=[]\n",
        "for i in range(len(df)):\n",
        "    if df.Fecha[i] in train_list:\n",
        "      data_viento.append(res[df.Fecha[i]])\n",
        "    else:\n",
        "      if df.Fecha[i][8:10] == '09':\n",
        "        day_b = df.Fecha[i][0:8]+'0' + str(int(df.Fecha[i][8:10])-1) + df.Fecha[i][10:]\n",
        "        day_a = df.Fecha[i][0:8]+ str(int(df.Fecha[i][8:10])+1) + df.Fecha[i][10:]\n",
        "        promedio = (res[day_b] + res[day_a])/2\n",
        "        data_viento.append(promedio)\n",
        "      else:\n",
        "        day_b = df.Fecha[i][0:8]+ '0'+ str(int(df.Fecha[i][8:10])-1) + df.Fecha[i][10:]\n",
        "        day_a = df.Fecha[i][0:8]+ '0'+ str(int(df.Fecha[i][8:10])+1) + df.Fecha[i][10:]\n",
        "        promedio = (res[day_b] + res[day_a])/2\n",
        "        data_viento.append(promedio)"
      ],
      "execution_count": 12,
      "outputs": []
    },
    {
      "cell_type": "code",
      "metadata": {
        "colab": {
          "base_uri": "https://localhost:8080/"
        },
        "id": "Cq9-9Ywi05f4",
        "outputId": "406438e0-7bd9-4512-dd10-d4c0d29ce12f"
      },
      "source": [
        "len(df), len(data_viento)"
      ],
      "execution_count": 13,
      "outputs": [
        {
          "output_type": "execute_result",
          "data": {
            "text/plain": [
              "(123406, 123406)"
            ]
          },
          "metadata": {
            "tags": []
          },
          "execution_count": 13
        }
      ]
    },
    {
      "cell_type": "code",
      "metadata": {
        "id": "0Pgpc8L10qqz"
      },
      "source": [
        "df.insert(1,'velocidad',data_viento,True)"
      ],
      "execution_count": 14,
      "outputs": []
    },
    {
      "cell_type": "code",
      "metadata": {
        "colab": {
          "base_uri": "https://localhost:8080/",
          "height": 422
        },
        "id": "pokbgCeAsaTe",
        "outputId": "a20f62c0-c30f-472f-d954-683cecfef63e"
      },
      "source": [
        "#el dataset con los missing values con valores\n",
        "df"
      ],
      "execution_count": 15,
      "outputs": [
        {
          "output_type": "execute_result",
          "data": {
            "text/html": [
              "<div>\n",
              "<style scoped>\n",
              "    .dataframe tbody tr th:only-of-type {\n",
              "        vertical-align: middle;\n",
              "    }\n",
              "\n",
              "    .dataframe tbody tr th {\n",
              "        vertical-align: top;\n",
              "    }\n",
              "\n",
              "    .dataframe thead th {\n",
              "        text-align: right;\n",
              "    }\n",
              "</style>\n",
              "<table border=\"1\" class=\"dataframe\">\n",
              "  <thead>\n",
              "    <tr style=\"text-align: right;\">\n",
              "      <th></th>\n",
              "      <th>Fecha</th>\n",
              "      <th>velocidad</th>\n",
              "    </tr>\n",
              "  </thead>\n",
              "  <tbody>\n",
              "    <tr>\n",
              "      <th>0</th>\n",
              "      <td>2012-12-19 00:20</td>\n",
              "      <td>11.4</td>\n",
              "    </tr>\n",
              "    <tr>\n",
              "      <th>1</th>\n",
              "      <td>2012-12-19 00:30</td>\n",
              "      <td>11.8</td>\n",
              "    </tr>\n",
              "    <tr>\n",
              "      <th>2</th>\n",
              "      <td>2012-12-19 00:40</td>\n",
              "      <td>11.6</td>\n",
              "    </tr>\n",
              "    <tr>\n",
              "      <th>3</th>\n",
              "      <td>2012-12-19 00:50</td>\n",
              "      <td>11.0</td>\n",
              "    </tr>\n",
              "    <tr>\n",
              "      <th>4</th>\n",
              "      <td>2012-12-19 01:00</td>\n",
              "      <td>11.5</td>\n",
              "    </tr>\n",
              "    <tr>\n",
              "      <th>...</th>\n",
              "      <td>...</td>\n",
              "      <td>...</td>\n",
              "    </tr>\n",
              "    <tr>\n",
              "      <th>123401</th>\n",
              "      <td>2015-04-24 23:10</td>\n",
              "      <td>0.5</td>\n",
              "    </tr>\n",
              "    <tr>\n",
              "      <th>123402</th>\n",
              "      <td>2015-04-24 23:20</td>\n",
              "      <td>0.7</td>\n",
              "    </tr>\n",
              "    <tr>\n",
              "      <th>123403</th>\n",
              "      <td>2015-04-24 23:30</td>\n",
              "      <td>1.3</td>\n",
              "    </tr>\n",
              "    <tr>\n",
              "      <th>123404</th>\n",
              "      <td>2015-04-24 23:40</td>\n",
              "      <td>2.6</td>\n",
              "    </tr>\n",
              "    <tr>\n",
              "      <th>123405</th>\n",
              "      <td>2015-04-24 23:50</td>\n",
              "      <td>4.2</td>\n",
              "    </tr>\n",
              "  </tbody>\n",
              "</table>\n",
              "<p>123406 rows × 2 columns</p>\n",
              "</div>"
            ],
            "text/plain": [
              "                   Fecha  velocidad\n",
              "0       2012-12-19 00:20       11.4\n",
              "1       2012-12-19 00:30       11.8\n",
              "2       2012-12-19 00:40       11.6\n",
              "3       2012-12-19 00:50       11.0\n",
              "4       2012-12-19 01:00       11.5\n",
              "...                  ...        ...\n",
              "123401  2015-04-24 23:10        0.5\n",
              "123402  2015-04-24 23:20        0.7\n",
              "123403  2015-04-24 23:30        1.3\n",
              "123404  2015-04-24 23:40        2.6\n",
              "123405  2015-04-24 23:50        4.2\n",
              "\n",
              "[123406 rows x 2 columns]"
            ]
          },
          "metadata": {
            "tags": []
          },
          "execution_count": 15
        }
      ]
    },
    {
      "cell_type": "markdown",
      "metadata": {
        "id": "0wGVjq00h5mB"
      },
      "source": [
        "### Análisis por mes\n",
        "\n",
        "Se analiza la media y desviación estándar de los datos."
      ]
    },
    {
      "cell_type": "code",
      "metadata": {
        "id": "4zjIPWbMXv31"
      },
      "source": [
        "enero=[];febrero=[];marzo=[];abril=[];mayo=[];junio=[]\n",
        "julio=[];agosto=[];septiembre=[];octubre=[];noviembre=[];diciembre=[]"
      ],
      "execution_count": 27,
      "outputs": []
    },
    {
      "cell_type": "code",
      "metadata": {
        "id": "rh6km07GYDFl"
      },
      "source": [
        "for k in range(len(df)):\n",
        "      mes = df.Fecha[k][5:7]\n",
        "      viento = df.velocidad[k] \n",
        "      if mes == '01':\n",
        "        enero.append(viento)\n",
        "      if mes == '02':\n",
        "        febrero.append(viento)\n",
        "      if mes == '03':\n",
        "        marzo.append(viento)\n",
        "      if mes == '04':\n",
        "        abril.append(viento)\n",
        "      if mes == '05':\n",
        "        mayo.append(viento)\n",
        "      if mes == '06':\n",
        "        junio.append(viento)\n",
        "      if mes == '07':\n",
        "        julio.append(viento)\n",
        "      if mes == '08':\n",
        "        agosto.append(viento)\n",
        "      if mes == '09':\n",
        "        septiembre.append(viento)\n",
        "      if mes == '10':\n",
        "        octubre.append(viento)\n",
        "      if mes == '11':\n",
        "        noviembre.append(viento)\n",
        "      else:\n",
        "        diciembre.append(viento)\n",
        "          "
      ],
      "execution_count": 30,
      "outputs": []
    },
    {
      "cell_type": "code",
      "metadata": {
        "colab": {
          "base_uri": "https://localhost:8080/"
        },
        "id": "uooq30-Bcg38",
        "outputId": "5a7e5805-6264-49cf-972c-21fb96795ef3"
      },
      "source": [
        "np.array(diciembre).mean()"
      ],
      "execution_count": 33,
      "outputs": [
        {
          "output_type": "execute_result",
          "data": {
            "text/plain": [
              "7.621381768119478"
            ]
          },
          "metadata": {
            "tags": []
          },
          "execution_count": 33
        }
      ]
    },
    {
      "cell_type": "code",
      "metadata": {
        "colab": {
          "base_uri": "https://localhost:8080/",
          "height": 371
        },
        "id": "65CJ7DhOb82Q",
        "outputId": "547a1dc4-4a11-43e7-ab2b-cac5727662da"
      },
      "source": [
        "fig = plt.figure()\n",
        "ax = fig.add_axes([0,0,1,1])\n",
        "meses = ['01', '02', '03', '04', '05','06', '07', '08', '09', '10', '11', '12']\n",
        "promedio = [np.array(enero).mean(), np.array(febrero).mean(), np.array(marzo).mean(), np.array(abril).mean(), np.array(mayo).mean(),np.array(junio).mean(),np.array(julio).mean(),np.array(agosto).mean(),np.array(septiembre).mean(),np.array(octubre).mean(),np.array(noviembre).mean(),np.array(diciembre).mean()]\n",
        "desvi = [np.array(enero).std(), np.array(febrero).std(), np.array(marzo).std(), np.array(abril).std(), np.array(mayo).std(),np.array(junio).std(),np.array(julio).std(),np.array(agosto).std(),np.array(septiembre).std(),np.array(octubre).std(),np.array(noviembre).std(),np.array(diciembre).std()]\n",
        "ax.bar(meses,promedio)\n",
        "ax.set_title(\"Promedio por mes\")\n",
        "ax.set_xlabel(\"Mes\", fontsize=12)\n",
        "ax.set_ylabel(\"Velocidad (m/s)\", fontsize=12)\n",
        "plt.show()"
      ],
      "execution_count": 44,
      "outputs": [
        {
          "output_type": "display_data",
          "data": {
            "image/png": "[encoded data removed]",
            "text/plain": [
              "<Figure size 432x288 with 1 Axes>"
            ]
          },
          "metadata": {
            "tags": [],
            "needs_background": "light"
          }
        }
      ]
    },
    {
      "cell_type": "code",
      "metadata": {
        "colab": {
          "base_uri": "https://localhost:8080/",
          "height": 371
        },
        "id": "MBfKHpFEe-kT",
        "outputId": "1a45e160-8908-45c9-8b8b-fb583f0b0257"
      },
      "source": [
        "fig = plt.figure()\n",
        "ax = fig.add_axes([0,0,1,1])\n",
        "ax.bar(meses,desvi)\n",
        "ax.set_title(\"Desviación por mes\")\n",
        "ax.set_xlabel(\"Mes\", fontsize=12)\n",
        "ax.set_ylabel(\"Velocidad (m/s)\", fontsize=12)\n",
        "plt.show()"
      ],
      "execution_count": 43,
      "outputs": [
        {
          "output_type": "display_data",
          "data": {
            "image/png": "[encoded data removed]",
            "text/plain": [
              "<Figure size 432x288 with 1 Axes>"
            ]
          },
          "metadata": {
            "tags": [],
            "needs_background": "light"
          }
        }
      ]
    },
    {
      "cell_type": "markdown",
      "metadata": {
        "id": "XGmtBugHjAUN"
      },
      "source": [
        "### Análisis por hora"
      ]
    },
    {
      "cell_type": "code",
      "metadata": {
        "id": "WYvhvNjcj7HE"
      },
      "source": [
        "hora1=[];hora2=[];hora3=[];hora4=[];hora4=[];hora5=[];hora6=[];\n",
        "hora7=[];hora8=[];hora9=[];hora10=[];hora11=[];hora12=[]\n",
        "hora13=[];hora14=[];hora15=[];hora16=[];hora17=[];hora18=[]\n",
        "hora19=[];hora20=[];hora21=[];hora22=[];hora23=[];hora24=[]"
      ],
      "execution_count": 53,
      "outputs": []
    },
    {
      "cell_type": "code",
      "metadata": {
        "id": "8ZbZFINGlb3B"
      },
      "source": [
        "for k in range(len(df)):\n",
        "      hora = df.Fecha[k][11:13]\n",
        "      viento = df.velocidad[k] \n",
        "      if hora == '01':\n",
        "        hora1.append(viento)\n",
        "      if hora == '02':\n",
        "        hora2.append(viento)\n",
        "      if hora == '03':\n",
        "        hora3.append(viento)\n",
        "      if hora == '04':\n",
        "        hora4.append(viento)\n",
        "      if hora == '05':\n",
        "        hora5.append(viento)\n",
        "      if hora == '06':\n",
        "        hora6.append(viento)\n",
        "      if hora == '07':\n",
        "        hora7.append(viento)\n",
        "      if hora == '08':\n",
        "        hora8.append(viento)\n",
        "      if hora == '09':\n",
        "        hora9.append(viento)\n",
        "      if hora == '10':\n",
        "        hora10.append(viento)\n",
        "      if hora == '11':\n",
        "        hora11.append(viento)\n",
        "      if hora == '12':\n",
        "        hora12.append(viento)\n",
        "      if hora == '13':\n",
        "        hora13.append(viento)\n",
        "      if hora == '14':\n",
        "        hora14.append(viento)\n",
        "      if hora == '15':\n",
        "        hora15.append(viento)\n",
        "      if hora == '16':\n",
        "        hora16.append(viento)\n",
        "      if hora == '17':\n",
        "        hora17.append(viento)\n",
        "      if hora == '18':\n",
        "        hora18.append(viento)\n",
        "      if hora == '19':\n",
        "        hora19.append(viento)\n",
        "      if hora == '20':\n",
        "        hora20.append(viento)\n",
        "      if hora == '21':\n",
        "        hora21.append(viento)\n",
        "      if hora == '22':\n",
        "        hora22.append(viento)\n",
        "      if hora == '23':\n",
        "        hora23.append(viento)\n",
        "      else:\n",
        "        hora24.append(viento)"
      ],
      "execution_count": 54,
      "outputs": []
    },
    {
      "cell_type": "code",
      "metadata": {
        "colab": {
          "base_uri": "https://localhost:8080/",
          "height": 371
        },
        "id": "cgPLOs4gna0M",
        "outputId": "ce2b6db1-5b7b-474c-c5f8-90c894324201"
      },
      "source": [
        "fig = plt.figure()\n",
        "ax = fig.add_axes([0,0,1,1])\n",
        "hora = list(range(1, 25))\n",
        "promedio = [np.array(hora1).mean(), np.array(hora2).mean(), np.array(hora3).mean(), np.array(hora4).mean(), np.array(hora5).mean(),np.array(hora6).mean(),np.array(hora7).mean(),np.array(hora8).mean(),np.array(hora9).mean(),np.array(hora10).mean(),np.array(hora11).mean(),np.array(hora12).mean(),np.array(hora13).mean(), np.array(hora14).mean(), np.array(hora15).mean(), np.array(hora16).mean(), np.array(hora17).mean(),np.array(hora18).mean(),np.array(hora19).mean(),np.array(hora20).mean(),np.array(hora21).mean(),np.array(hora22).mean(),np.array(hora23).mean(),np.array(hora24).mean()]\n",
        "desvi = [np.array(hora1).std(), np.array(hora2).std(), np.array(hora3).std(), np.array(hora4).std(), np.array(hora5).std(),np.array(hora6).std(),np.array(hora7).std(),np.array(hora8).std(),np.array(hora9).std(),np.array(hora10).std(),np.array(hora11).std(),np.array(hora12).std(),np.array(hora13).std(), np.array(hora14).std(), np.array(hora15).std(), np.array(hora16).std(), np.array(hora17).std(),np.array(hora18).std(),np.array(hora19).std(),np.array(hora20).std(),np.array(hora21).std(),np.array(hora22).std(),np.array(hora23).std(),np.array(hora24).std()]\n",
        "#desvi = [np.array(enero).std(), np.array(febrero).std(), np.array(marzo).std(), np.array(abril).std(), np.array(mayo).std(),np.array(junio).std(),np.array(julio).std(),np.array(agosto).std(),np.array(septiembre).std(),np.array(octubre).std(),np.array(noviembre).std(),np.array(diciembre).std()]\n",
        "plt.plot(hora, promedio, marker='x')\n",
        "plt.xlabel('Hora')\n",
        "plt.ylabel('Velocidad (m/s)')\n",
        "plt.title('Promedio por hora')\n",
        "plt.show()\n"
      ],
      "execution_count": 62,
      "outputs": [
        {
          "output_type": "display_data",
          "data": {
            "image/png": "[encoded data removed]",
            "text/plain": [
              "<Figure size 432x288 with 1 Axes>"
            ]
          },
          "metadata": {
            "tags": [],
            "needs_background": "light"
          }
        }
      ]
    },
    {
      "cell_type": "code",
      "metadata": {
        "colab": {
          "base_uri": "https://localhost:8080/",
          "height": 371
        },
        "id": "Rx33_7mYqYKt",
        "outputId": "d982b9d8-f786-4acc-9f23-b670b92299e3"
      },
      "source": [
        "fig = plt.figure()\n",
        "ax = fig.add_axes([0,0,1,1])\n",
        "plt.plot(hora, desvi, marker='x')\n",
        "plt.xlabel('Hora')\n",
        "plt.ylabel('Velocidad (m/s)')\n",
        "plt.title('Desviación por hora')\n",
        "plt.show()"
      ],
      "execution_count": 63,
      "outputs": [
        {
          "output_type": "display_data",
          "data": {
            "image/png": "[encoded data removed]",
            "text/plain": [
              "<Figure size 432x288 with 1 Axes>"
            ]
          },
          "metadata": {
            "tags": [],
            "needs_background": "light"
          }
        }
      ]
    },
    {
      "cell_type": "markdown",
      "metadata": {
        "id": "GyDsijhfr81B"
      },
      "source": [
        "De las gráficas tanto por mes como por hora, se observa hay una diferncia de magnitud entre la hora y mes respectivo. Por ejemplo, de los meses de septiembre a noviembre se observa un alza en los valores promedio de la velocidad del viento. En tanto para el análisis horario, de las 15:00 a las 17:00 hrs se observa los valores máximos de viento. De este análisis se puede concluir que indicarle a la red el mes o la hora podría ayudar a realizar una mejor predicción. "
      ]
    },
    {
      "cell_type": "markdown",
      "metadata": {
        "id": "D76zKMtT5lDt"
      },
      "source": [
        "Se crean los dataset de *training* y *validation*, tomando el 20% inicial para validación y el resto para entrenamiento. Es importante considerar que los conjuntos serán sucesivos ya que en este tipo de redes importa el orden. "
      ]
    },
    {
      "cell_type": "code",
      "metadata": {
        "id": "PPZyTm3aVKzc"
      },
      "source": [
        "data_val, data_tr = [df.velocidad[int(df.velocidad.shape[0]*k1):int(df.velocidad.shape[0]*k2)].to_numpy().reshape(-1,1) for k1, k2 in [[0.00, 0.20], [0.20, 1.0]]]\n",
        "time_val, time_tr = [df.Fecha[int(df.Fecha.shape[0]*k1):int(df.Fecha.shape[0]*k2)] for k1, k2 in [[0.00, 0.20], [0.20, 1.0]]]"
      ],
      "execution_count": 16,
      "outputs": []
    },
    {
      "cell_type": "markdown",
      "metadata": {
        "id": "p67pFkQEHCJu"
      },
      "source": [
        "## Red LSTM"
      ]
    },
    {
      "cell_type": "markdown",
      "metadata": {
        "id": "VOjw9hQfe-Xv"
      },
      "source": [
        "Como primera red se propondrá una LSTM. Para la predicción de cada *timestep* nuevo se tomará en cuenta 144 tiempos anteriores (144 datos porque considerando que el delta de tiempo es de 10 minutos, un día equivale a 144 *steps*). Para esto se hará uso de la función *split_sequence()*."
      ]
    },
    {
      "cell_type": "code",
      "metadata": {
        "id": "V83eqrprVos7"
      },
      "source": [
        "from sklearn.preprocessing import StandardScaler\n",
        "scaler = StandardScaler()\n",
        "scaler.fit(data_tr) # Se establece como conjunto base la muestra original\n",
        "data_tr2, data_val2 = [scaler.transform(k) for k in [data_tr, data_val]]"
      ],
      "execution_count": null,
      "outputs": []
    },
    {
      "cell_type": "code",
      "metadata": {
        "id": "7n_mFrZ-gREW"
      },
      "source": [
        "def split_sequence(sequence, n_steps_in, n_steps_out):\n",
        "    X, y , seq_t= list(), list(), list()\n",
        "    for i in range(len(sequence)):\n",
        "      # find the end of this pattern\n",
        "      end_ix = i + n_steps_in\n",
        "      out_end_ix = end_ix + n_steps_out\n",
        "      # check if we are beyond the sequence\n",
        "      if out_end_ix > len(sequence):    \n",
        "          break\n",
        "      #print(sequence)\n",
        "      #print(i)    \n",
        "      # gather input and output parts of the pattern\n",
        "      seq_x, seq_y = sequence[i:end_ix], sequence[end_ix:out_end_ix, 0]\n",
        "      # print(i) \n",
        "      # seq_t.append(time_seq[end_ix])\n",
        "      X.append(seq_x)\n",
        "      y.append(seq_y)\n",
        "    return np.array(X), np.array(y) , np.asarray(seq_t)"
      ],
      "execution_count": null,
      "outputs": []
    },
    {
      "cell_type": "code",
      "metadata": {
        "id": "dd2335xtgTz3"
      },
      "source": [
        "len_inp, len_out = 144, 1\n",
        "x_tr,  y_tr,  t_tr  = split_sequence(data_tr2,  len_inp, len_out)\n",
        "x_val, y_val, t_val = split_sequence(data_val2, len_inp, len_out)"
      ],
      "execution_count": null,
      "outputs": []
    },
    {
      "cell_type": "code",
      "metadata": {
        "colab": {
          "base_uri": "https://localhost:8080/"
        },
        "id": "MdY-nmsg3MYS",
        "outputId": "13b503b5-6933-423b-a2e0-bb6d97423072"
      },
      "source": [
        "x_tr.shape, y_tr.shape"
      ],
      "execution_count": null,
      "outputs": [
        {
          "output_type": "execute_result",
          "data": {
            "text/plain": [
              "((98581, 144, 1), (98581, 1))"
            ]
          },
          "metadata": {
            "tags": []
          },
          "execution_count": 20
        }
      ]
    },
    {
      "cell_type": "markdown",
      "metadata": {
        "id": "gB_vgllBrRzj"
      },
      "source": [
        "\n",
        "\n",
        "*   98581: Número de muestras.\n",
        "*   144: steps de tiempo para un día cada 10 minutos.\n",
        "*   1: dato (viento).\n",
        "\n"
      ]
    },
    {
      "cell_type": "markdown",
      "metadata": {
        "id": "FQKdGSLHirPb"
      },
      "source": [
        "Se procede a crear la red LSTM. "
      ]
    },
    {
      "cell_type": "code",
      "metadata": {
        "id": "a7LwLn_3xidH",
        "colab": {
          "base_uri": "https://localhost:8080/"
        },
        "outputId": "e5d85603-48c9-4ec8-b8b5-0ec606e9d0db"
      },
      "source": [
        "import tensorflow as tf\n",
        "import time\n",
        "from tensorflow.python.keras import models\n",
        "from tensorflow.python.keras import layers\n",
        "from tensorflow.python.keras import activations\n",
        "from tensorflow.python.keras.engine import input_layer\n",
        "tf.random.set_seed(12345)\n",
        "epochs = 2\n",
        "t0=time.time() \n",
        "\n",
        "input_lstm= input_layer.Input(shape=(x_tr.shape[1],1))\n",
        "rnn=layers.LSTM(units=56,return_sequences=True)(input_lstm)\n",
        "rnn=layers.LSTM(units=56,return_sequences=False)(rnn)\n",
        "dens=layers.Dense(len_out, activation='linear')(rnn)\n",
        "model_1=models.Model(inputs=input_lstm, outputs=dens)\n",
        "model_1.compile(loss='mse', optimizer='adam', metrics=['mse'])\n",
        "history_1   = model_1.fit(x_tr[:,:,0:1],y_tr, validation_data=(x_val[:,:,0:1],y_val), epochs=epochs, batch_size=16, verbose=1)\n",
        "#test_loss_1 = tf.math.reduce_mean(tf.keras.losses.MSE(model_1(x_tst[:,:,0:1]), y_tst))\n",
        "#print(r\"Training Time: %s ~ %.4fs\" % tuple([str(datetime.fromtimestamp(time.time()-t0).strftime(\"%X\")), time.time()-t0]))\n",
        "#print(r'Test Loss: %.4f'%(test_loss_1))"
      ],
      "execution_count": null,
      "outputs": [
        {
          "output_type": "stream",
          "text": [
            "Epoch 1/2\n",
            "6162/6162 [==============================] - 1709s 277ms/step - loss: 0.0620 - acc: 0.0000e+00 - val_loss: 0.0512 - val_acc: 0.0000e+00\n",
            "Epoch 2/2\n",
            "6162/6162 [==============================] - 1710s 277ms/step - loss: 0.0556 - acc: 0.0000e+00 - val_loss: 0.0486 - val_acc: 0.0000e+00\n"
          ],
          "name": "stdout"
        }
      ]
    },
    {
      "cell_type": "code",
      "metadata": {
        "colab": {
          "base_uri": "https://localhost:8080/",
          "height": 301
        },
        "id": "Ti1F7mAIkwIP",
        "outputId": "95043664-16ea-4405-c5f9-39efa253bc0e"
      },
      "source": [
        "plt.plot(history_1.history['mse'])\n",
        "plt.plot(history_1.history['val_mse'])\n",
        "plt.title('Model MSE Red LSTM')\n",
        "plt.ylabel('MSE')\n",
        "plt.xlabel('epoch')\n",
        "plt.legend(['train', 'val'], loc='upper left')\n",
        "plt.show()"
      ],
      "execution_count": null,
      "outputs": [
        {
          "output_type": "display_data",
          "data": {
            "image/png": "[encoded data removed]",
            "text/plain": [
              "<Figure size 432x288 with 1 Axes>"
            ]
          },
          "metadata": {
            "tags": [],
            "needs_background": "light"
          }
        }
      ]
    },
    {
      "cell_type": "markdown",
      "metadata": {
        "id": "ZCLL_uOkj4c2"
      },
      "source": [
        "## Red GRU"
      ]
    },
    {
      "cell_type": "markdown",
      "metadata": {
        "id": "5PrLpUyykvGw"
      },
      "source": [
        "Una red GRU posee una arquitectura más simplificada que la LSTM al contener una compuerta menos. Se construye la red con la misma arquitectura para poder compararlas."
      ]
    },
    {
      "cell_type": "code",
      "metadata": {
        "colab": {
          "base_uri": "https://localhost:8080/"
        },
        "id": "7IS5Jie2kv2O",
        "outputId": "a2af9776-c6f5-407f-fa17-dfd14809f4c3"
      },
      "source": [
        "import tensorflow as tf\n",
        "import time\n",
        "from tensorflow.python.keras import models\n",
        "from tensorflow.python.keras import layers\n",
        "from tensorflow.python.keras import activations\n",
        "from tensorflow.python.keras.engine import input_layer\n",
        "tf.random.set_seed(12345)\n",
        "epochs = 2\n",
        "t0=time.time() \n",
        "\n",
        "#print('Model 1: Univariante')\n",
        "input_gru= input_layer.Input(shape=(x_tr.shape[1],1))\n",
        "rnn=layers.GRU(units=56,return_sequences=True)(input_gru)\n",
        "rnn=layers.GRU(units=56,return_sequences=False)(rnn)\n",
        "dens=layers.Dense(len_out, activation='linear')(rnn)\n",
        "model_2=models.Model(inputs=input_gru, outputs=dens)\n",
        "model_2.compile(loss='mse', optimizer='adam', metrics=['mse'])\n",
        "history_2   = model_2.fit(x_tr[:,:,0:1],y_tr, validation_data=(x_val[:,:,0:1],y_val), epochs=epochs, batch_size=16, verbose=1)"
      ],
      "execution_count": null,
      "outputs": [
        {
          "output_type": "stream",
          "text": [
            "Epoch 1/2\n",
            "6162/6162 [==============================] - 1625s 263ms/step - loss: 0.0582 - mse: 0.0582 - val_loss: 0.0509 - val_mse: 0.0509\n",
            "Epoch 2/2\n",
            "6162/6162 [==============================] - 1605s 260ms/step - loss: 0.0560 - mse: 0.0560 - val_loss: 0.0491 - val_mse: 0.0491\n"
          ],
          "name": "stdout"
        }
      ]
    },
    {
      "cell_type": "code",
      "metadata": {
        "colab": {
          "base_uri": "https://localhost:8080/",
          "height": 301
        },
        "id": "xe20kSHHjZKU",
        "outputId": "7cfe2498-0440-4f32-dda5-edd35d6b5159"
      },
      "source": [
        "plt.plot(history_2.history['mse'])\n",
        "plt.plot(history_2.history['val_mse'])\n",
        "plt.title('Model MSE Red GRU')\n",
        "plt.ylabel('MSE')\n",
        "plt.xlabel('epoch')\n",
        "plt.legend(['train', 'val'], loc='upper left')\n",
        "plt.show()"
      ],
      "execution_count": null,
      "outputs": [
        {
          "output_type": "display_data",
          "data": {
            "image/png": "[encoded data removed]",
            "text/plain": [
              "<Figure size 432x288 with 1 Axes>"
            ]
          },
          "metadata": {
            "tags": [],
            "needs_background": "light"
          }
        }
      ]
    },
    {
      "cell_type": "markdown",
      "metadata": {
        "id": "M4MdfVsxubuc"
      },
      "source": [
        "Comparando los valores de loss de ambas redes, se observa un comportamiento similar, llegando a valores cercanos. Se realizaron solo dos iteraciones debido al tiempo que demoraba. Se procederá a probar la red LSTM debido a que su valor de loss es un poco menor que la GRU."
      ]
    },
    {
      "cell_type": "markdown",
      "metadata": {
        "id": "Va88SKrLQE7O"
      },
      "source": [
        "Para testear la red, se estimará el valor del viento desde la última fecha del *data train* hasta la última fecha del test. \n",
        "\n",
        "Se genera un data frame que parta de 2015-04-25 00:00 hasta 2015-09-24 23:50 con un delta de tiempo de 10 minutos. Se crea esto porque para generar la predicción para cierto *timestep* se necesita los 144 anteriores."
      ]
    },
    {
      "cell_type": "code",
      "metadata": {
        "colab": {
          "base_uri": "https://localhost:8080/",
          "height": 422
        },
        "id": "gSHDH6-hHgW1",
        "outputId": "042c74d2-9132-45ec-b7ca-cb65a437d4b9"
      },
      "source": [
        "numero = 22032\n",
        "date = dt.datetime(2015, 4, 25)\n",
        "super_date = pd.date_range(date, periods=(numero), freq='10min')\n",
        "data_time = super_date.strftime(\"%Y-%m-%d %H:%M\")\n",
        "df3 = pd.DataFrame(data_time)\n",
        "df3.columns = ['Fecha']\n",
        "df3"
      ],
      "execution_count": null,
      "outputs": [
        {
          "output_type": "execute_result",
          "data": {
            "text/html": [
              "<div>\n",
              "<style scoped>\n",
              "    .dataframe tbody tr th:only-of-type {\n",
              "        vertical-align: middle;\n",
              "    }\n",
              "\n",
              "    .dataframe tbody tr th {\n",
              "        vertical-align: top;\n",
              "    }\n",
              "\n",
              "    .dataframe thead th {\n",
              "        text-align: right;\n",
              "    }\n",
              "</style>\n",
              "<table border=\"1\" class=\"dataframe\">\n",
              "  <thead>\n",
              "    <tr style=\"text-align: right;\">\n",
              "      <th></th>\n",
              "      <th>Fecha</th>\n",
              "    </tr>\n",
              "  </thead>\n",
              "  <tbody>\n",
              "    <tr>\n",
              "      <th>0</th>\n",
              "      <td>2015-04-25 00:00</td>\n",
              "    </tr>\n",
              "    <tr>\n",
              "      <th>1</th>\n",
              "      <td>2015-04-25 00:10</td>\n",
              "    </tr>\n",
              "    <tr>\n",
              "      <th>2</th>\n",
              "      <td>2015-04-25 00:20</td>\n",
              "    </tr>\n",
              "    <tr>\n",
              "      <th>3</th>\n",
              "      <td>2015-04-25 00:30</td>\n",
              "    </tr>\n",
              "    <tr>\n",
              "      <th>4</th>\n",
              "      <td>2015-04-25 00:40</td>\n",
              "    </tr>\n",
              "    <tr>\n",
              "      <th>...</th>\n",
              "      <td>...</td>\n",
              "    </tr>\n",
              "    <tr>\n",
              "      <th>22027</th>\n",
              "      <td>2015-09-24 23:10</td>\n",
              "    </tr>\n",
              "    <tr>\n",
              "      <th>22028</th>\n",
              "      <td>2015-09-24 23:20</td>\n",
              "    </tr>\n",
              "    <tr>\n",
              "      <th>22029</th>\n",
              "      <td>2015-09-24 23:30</td>\n",
              "    </tr>\n",
              "    <tr>\n",
              "      <th>22030</th>\n",
              "      <td>2015-09-24 23:40</td>\n",
              "    </tr>\n",
              "    <tr>\n",
              "      <th>22031</th>\n",
              "      <td>2015-09-24 23:50</td>\n",
              "    </tr>\n",
              "  </tbody>\n",
              "</table>\n",
              "<p>22032 rows × 1 columns</p>\n",
              "</div>"
            ],
            "text/plain": [
              "                  Fecha\n",
              "0      2015-04-25 00:00\n",
              "1      2015-04-25 00:10\n",
              "2      2015-04-25 00:20\n",
              "3      2015-04-25 00:30\n",
              "4      2015-04-25 00:40\n",
              "...                 ...\n",
              "22027  2015-09-24 23:10\n",
              "22028  2015-09-24 23:20\n",
              "22029  2015-09-24 23:30\n",
              "22030  2015-09-24 23:40\n",
              "22031  2015-09-24 23:50\n",
              "\n",
              "[22032 rows x 1 columns]"
            ]
          },
          "metadata": {
            "tags": []
          },
          "execution_count": 28
        }
      ]
    },
    {
      "cell_type": "code",
      "metadata": {
        "id": "pxp9PLTIHtvu"
      },
      "source": [
        "aux3 = pd.to_datetime(df3.Fecha).astype(int)/(1e9)"
      ],
      "execution_count": null,
      "outputs": []
    },
    {
      "cell_type": "markdown",
      "metadata": {
        "id": "fpaDzRL8Td1s"
      },
      "source": [
        "Se crea una lista (vamos) que tendrá los datos de predicción de la red neuronal."
      ]
    },
    {
      "cell_type": "code",
      "metadata": {
        "colab": {
          "base_uri": "https://localhost:8080/",
          "height": 207
        },
        "id": "tIwzriNZH1Kz",
        "outputId": "741bea7e-c532-4efa-8d6f-c6bb10ceddbb"
      },
      "source": [
        "delta = len(df3)\n",
        "vamos = np.ones([delta,1])\n",
        "#vamos[0:144] = X_0\n",
        "for k in range(delta-1):\n",
        "  z = model_1.predict(vamos[0+k:144+k].reshape(1,144,1))\n",
        "  vamos[144+k]=z"
      ],
      "execution_count": null,
      "outputs": [
        {
          "output_type": "error",
          "ename": "IndexError",
          "evalue": "ignored",
          "traceback": [
            "\u001b[0;31m---------------------------------------------------------------------------\u001b[0m",
            "\u001b[0;31mIndexError\u001b[0m                                Traceback (most recent call last)",
            "\u001b[0;32m<ipython-input-31-92e777877a2d>\u001b[0m in \u001b[0;36m<module>\u001b[0;34m()\u001b[0m\n\u001b[1;32m      4\u001b[0m \u001b[0;32mfor\u001b[0m \u001b[0mk\u001b[0m \u001b[0;32min\u001b[0m \u001b[0mrange\u001b[0m\u001b[0;34m(\u001b[0m\u001b[0mdelta\u001b[0m\u001b[0;34m-\u001b[0m\u001b[0;36m1\u001b[0m\u001b[0;34m)\u001b[0m\u001b[0;34m:\u001b[0m\u001b[0;34m\u001b[0m\u001b[0;34m\u001b[0m\u001b[0m\n\u001b[1;32m      5\u001b[0m   \u001b[0mz\u001b[0m \u001b[0;34m=\u001b[0m \u001b[0mmodel_1\u001b[0m\u001b[0;34m.\u001b[0m\u001b[0mpredict\u001b[0m\u001b[0;34m(\u001b[0m\u001b[0mvamos\u001b[0m\u001b[0;34m[\u001b[0m\u001b[0;36m0\u001b[0m\u001b[0;34m+\u001b[0m\u001b[0mk\u001b[0m\u001b[0;34m:\u001b[0m\u001b[0;36m144\u001b[0m\u001b[0;34m+\u001b[0m\u001b[0mk\u001b[0m\u001b[0;34m]\u001b[0m\u001b[0;34m.\u001b[0m\u001b[0mreshape\u001b[0m\u001b[0;34m(\u001b[0m\u001b[0;36m1\u001b[0m\u001b[0;34m,\u001b[0m\u001b[0;36m144\u001b[0m\u001b[0;34m,\u001b[0m\u001b[0;36m1\u001b[0m\u001b[0;34m)\u001b[0m\u001b[0;34m)\u001b[0m\u001b[0;34m\u001b[0m\u001b[0;34m\u001b[0m\u001b[0m\n\u001b[0;32m----> 6\u001b[0;31m   \u001b[0mvamos\u001b[0m\u001b[0;34m[\u001b[0m\u001b[0;36m144\u001b[0m\u001b[0;34m+\u001b[0m\u001b[0mk\u001b[0m\u001b[0;34m]\u001b[0m\u001b[0;34m=\u001b[0m\u001b[0mz\u001b[0m\u001b[0;34m\u001b[0m\u001b[0;34m\u001b[0m\u001b[0m\n\u001b[0m",
            "\u001b[0;31mIndexError\u001b[0m: index 22032 is out of bounds for axis 0 with size 22032"
          ]
        }
      ]
    },
    {
      "cell_type": "code",
      "metadata": {
        "colab": {
          "base_uri": "https://localhost:8080/"
        },
        "id": "eRPcubEDNf9S",
        "outputId": "5d8c70e8-aa34-4ab1-f418-3d58f26d2787"
      },
      "source": [
        "vamos.shape\n",
        "vamos_wanderers = scaler.inverse_transform(vamos)\n",
        "vamos_wanderers"
      ],
      "execution_count": null,
      "outputs": [
        {
          "output_type": "execute_result",
          "data": {
            "text/plain": [
              "array([[12.1340759 ],\n",
              "       [12.1340759 ],\n",
              "       [12.1340759 ],\n",
              "       ...,\n",
              "       [ 9.40897023],\n",
              "       [ 9.40897023],\n",
              "       [ 9.4089701 ]])"
            ]
          },
          "metadata": {
            "tags": []
          },
          "execution_count": 33
        }
      ]
    },
    {
      "cell_type": "markdown",
      "metadata": {
        "id": "BLQJRVhoVMtx"
      },
      "source": [
        "Se crea un *data frame* con la fecha y la predicción de velocidad. "
      ]
    },
    {
      "cell_type": "code",
      "metadata": {
        "colab": {
          "base_uri": "https://localhost:8080/",
          "height": 422
        },
        "id": "W4bgXxdONpH9",
        "outputId": "c909f8d9-f2ca-4e4d-d4da-909140ddbdb5"
      },
      "source": [
        "df3.insert(1,'velocidad',vamos_wanderers,True)\n",
        "df3"
      ],
      "execution_count": null,
      "outputs": [
        {
          "output_type": "execute_result",
          "data": {
            "text/html": [
              "<div>\n",
              "<style scoped>\n",
              "    .dataframe tbody tr th:only-of-type {\n",
              "        vertical-align: middle;\n",
              "    }\n",
              "\n",
              "    .dataframe tbody tr th {\n",
              "        vertical-align: top;\n",
              "    }\n",
              "\n",
              "    .dataframe thead th {\n",
              "        text-align: right;\n",
              "    }\n",
              "</style>\n",
              "<table border=\"1\" class=\"dataframe\">\n",
              "  <thead>\n",
              "    <tr style=\"text-align: right;\">\n",
              "      <th></th>\n",
              "      <th>Fecha</th>\n",
              "      <th>velocidad</th>\n",
              "    </tr>\n",
              "  </thead>\n",
              "  <tbody>\n",
              "    <tr>\n",
              "      <th>0</th>\n",
              "      <td>2015-04-25 00:00</td>\n",
              "      <td>12.134076</td>\n",
              "    </tr>\n",
              "    <tr>\n",
              "      <th>1</th>\n",
              "      <td>2015-04-25 00:10</td>\n",
              "      <td>12.134076</td>\n",
              "    </tr>\n",
              "    <tr>\n",
              "      <th>2</th>\n",
              "      <td>2015-04-25 00:20</td>\n",
              "      <td>12.134076</td>\n",
              "    </tr>\n",
              "    <tr>\n",
              "      <th>3</th>\n",
              "      <td>2015-04-25 00:30</td>\n",
              "      <td>12.134076</td>\n",
              "    </tr>\n",
              "    <tr>\n",
              "      <th>4</th>\n",
              "      <td>2015-04-25 00:40</td>\n",
              "      <td>12.134076</td>\n",
              "    </tr>\n",
              "    <tr>\n",
              "      <th>...</th>\n",
              "      <td>...</td>\n",
              "      <td>...</td>\n",
              "    </tr>\n",
              "    <tr>\n",
              "      <th>22027</th>\n",
              "      <td>2015-09-24 23:10</td>\n",
              "      <td>9.408970</td>\n",
              "    </tr>\n",
              "    <tr>\n",
              "      <th>22028</th>\n",
              "      <td>2015-09-24 23:20</td>\n",
              "      <td>9.408970</td>\n",
              "    </tr>\n",
              "    <tr>\n",
              "      <th>22029</th>\n",
              "      <td>2015-09-24 23:30</td>\n",
              "      <td>9.408970</td>\n",
              "    </tr>\n",
              "    <tr>\n",
              "      <th>22030</th>\n",
              "      <td>2015-09-24 23:40</td>\n",
              "      <td>9.408970</td>\n",
              "    </tr>\n",
              "    <tr>\n",
              "      <th>22031</th>\n",
              "      <td>2015-09-24 23:50</td>\n",
              "      <td>9.408970</td>\n",
              "    </tr>\n",
              "  </tbody>\n",
              "</table>\n",
              "<p>22032 rows × 2 columns</p>\n",
              "</div>"
            ],
            "text/plain": [
              "                  Fecha  velocidad\n",
              "0      2015-04-25 00:00  12.134076\n",
              "1      2015-04-25 00:10  12.134076\n",
              "2      2015-04-25 00:20  12.134076\n",
              "3      2015-04-25 00:30  12.134076\n",
              "4      2015-04-25 00:40  12.134076\n",
              "...                 ...        ...\n",
              "22027  2015-09-24 23:10   9.408970\n",
              "22028  2015-09-24 23:20   9.408970\n",
              "22029  2015-09-24 23:30   9.408970\n",
              "22030  2015-09-24 23:40   9.408970\n",
              "22031  2015-09-24 23:50   9.408970\n",
              "\n",
              "[22032 rows x 2 columns]"
            ]
          },
          "metadata": {
            "tags": []
          },
          "execution_count": 34
        }
      ]
    },
    {
      "cell_type": "markdown",
      "metadata": {
        "id": "sriFursMV1KO"
      },
      "source": [
        "Se cargan los datos a testear."
      ]
    },
    {
      "cell_type": "code",
      "metadata": {
        "colab": {
          "base_uri": "https://localhost:8080/",
          "height": 224
        },
        "id": "0bGnmIqfN8VQ",
        "outputId": "65998948-5116-43f2-cf33-2f3efd3ec640"
      },
      "source": [
        "data_test = pd.read_csv(path + 'windspeed-testing.csv' ,header=None,engine='python')\n",
        "data_test.columns = ['Fecha']\n",
        "print(data_test.shape)\n",
        "data_test.head()"
      ],
      "execution_count": null,
      "outputs": [
        {
          "output_type": "stream",
          "text": [
            "(2000, 1)\n"
          ],
          "name": "stdout"
        },
        {
          "output_type": "execute_result",
          "data": {
            "text/html": [
              "<div>\n",
              "<style scoped>\n",
              "    .dataframe tbody tr th:only-of-type {\n",
              "        vertical-align: middle;\n",
              "    }\n",
              "\n",
              "    .dataframe tbody tr th {\n",
              "        vertical-align: top;\n",
              "    }\n",
              "\n",
              "    .dataframe thead th {\n",
              "        text-align: right;\n",
              "    }\n",
              "</style>\n",
              "<table border=\"1\" class=\"dataframe\">\n",
              "  <thead>\n",
              "    <tr style=\"text-align: right;\">\n",
              "      <th></th>\n",
              "      <th>Fecha</th>\n",
              "    </tr>\n",
              "  </thead>\n",
              "  <tbody>\n",
              "    <tr>\n",
              "      <th>0</th>\n",
              "      <td>26-04-2015 01:50</td>\n",
              "    </tr>\n",
              "    <tr>\n",
              "      <th>1</th>\n",
              "      <td>26-04-2015 03:10</td>\n",
              "    </tr>\n",
              "    <tr>\n",
              "      <th>2</th>\n",
              "      <td>26-04-2015 04:20</td>\n",
              "    </tr>\n",
              "    <tr>\n",
              "      <th>3</th>\n",
              "      <td>26-04-2015 05:20</td>\n",
              "    </tr>\n",
              "    <tr>\n",
              "      <th>4</th>\n",
              "      <td>26-04-2015 06:40</td>\n",
              "    </tr>\n",
              "  </tbody>\n",
              "</table>\n",
              "</div>"
            ],
            "text/plain": [
              "              Fecha\n",
              "0  26-04-2015 01:50\n",
              "1  26-04-2015 03:10\n",
              "2  26-04-2015 04:20\n",
              "3  26-04-2015 05:20\n",
              "4  26-04-2015 06:40"
            ]
          },
          "metadata": {
            "tags": []
          },
          "execution_count": 35
        }
      ]
    },
    {
      "cell_type": "code",
      "metadata": {
        "colab": {
          "base_uri": "https://localhost:8080/",
          "height": 422
        },
        "id": "H_hBbBooOX-V",
        "outputId": "bdc88107-926e-4c87-abe2-8203e650d856"
      },
      "source": [
        "fecha2 = []\n",
        "for k in range(len(data_test.Fecha)):\n",
        "  dia = data_test.Fecha[k][8:10]\n",
        "  mes = data_test.Fecha[k][5:7]\n",
        "  año = data_test.Fecha[k][0:4]\n",
        "  hora = data_test.Fecha[k][11:]\n",
        "  n_dia = dia+'-'+mes+'-'+año+' '+hora\n",
        "  fecha2.append(n_dia)\n",
        "data_test.insert(1,'Fecha2',fecha2,True)\n",
        "data_test"
      ],
      "execution_count": null,
      "outputs": [
        {
          "output_type": "execute_result",
          "data": {
            "text/html": [
              "<div>\n",
              "<style scoped>\n",
              "    .dataframe tbody tr th:only-of-type {\n",
              "        vertical-align: middle;\n",
              "    }\n",
              "\n",
              "    .dataframe tbody tr th {\n",
              "        vertical-align: top;\n",
              "    }\n",
              "\n",
              "    .dataframe thead th {\n",
              "        text-align: right;\n",
              "    }\n",
              "</style>\n",
              "<table border=\"1\" class=\"dataframe\">\n",
              "  <thead>\n",
              "    <tr style=\"text-align: right;\">\n",
              "      <th></th>\n",
              "      <th>Fecha</th>\n",
              "      <th>Fecha2</th>\n",
              "    </tr>\n",
              "  </thead>\n",
              "  <tbody>\n",
              "    <tr>\n",
              "      <th>0</th>\n",
              "      <td>26-04-2015 01:50</td>\n",
              "      <td>15--2-26-0 01:50</td>\n",
              "    </tr>\n",
              "    <tr>\n",
              "      <th>1</th>\n",
              "      <td>26-04-2015 03:10</td>\n",
              "      <td>15--2-26-0 03:10</td>\n",
              "    </tr>\n",
              "    <tr>\n",
              "      <th>2</th>\n",
              "      <td>26-04-2015 04:20</td>\n",
              "      <td>15--2-26-0 04:20</td>\n",
              "    </tr>\n",
              "    <tr>\n",
              "      <th>3</th>\n",
              "      <td>26-04-2015 05:20</td>\n",
              "      <td>15--2-26-0 05:20</td>\n",
              "    </tr>\n",
              "    <tr>\n",
              "      <th>4</th>\n",
              "      <td>26-04-2015 06:40</td>\n",
              "      <td>15--2-26-0 06:40</td>\n",
              "    </tr>\n",
              "    <tr>\n",
              "      <th>...</th>\n",
              "      <td>...</td>\n",
              "      <td>...</td>\n",
              "    </tr>\n",
              "    <tr>\n",
              "      <th>1995</th>\n",
              "      <td>19-09-2015 08:10</td>\n",
              "      <td>15--2-19-0 08:10</td>\n",
              "    </tr>\n",
              "    <tr>\n",
              "      <th>1996</th>\n",
              "      <td>21-09-2015 11:20</td>\n",
              "      <td>15--2-21-0 11:20</td>\n",
              "    </tr>\n",
              "    <tr>\n",
              "      <th>1997</th>\n",
              "      <td>22-09-2015 10:30</td>\n",
              "      <td>15--2-22-0 10:30</td>\n",
              "    </tr>\n",
              "    <tr>\n",
              "      <th>1998</th>\n",
              "      <td>23-09-2015 17:30</td>\n",
              "      <td>15--2-23-0 17:30</td>\n",
              "    </tr>\n",
              "    <tr>\n",
              "      <th>1999</th>\n",
              "      <td>24-09-2015 00:10</td>\n",
              "      <td>15--2-24-0 00:10</td>\n",
              "    </tr>\n",
              "  </tbody>\n",
              "</table>\n",
              "<p>2000 rows × 2 columns</p>\n",
              "</div>"
            ],
            "text/plain": [
              "                 Fecha            Fecha2\n",
              "0     26-04-2015 01:50  15--2-26-0 01:50\n",
              "1     26-04-2015 03:10  15--2-26-0 03:10\n",
              "2     26-04-2015 04:20  15--2-26-0 04:20\n",
              "3     26-04-2015 05:20  15--2-26-0 05:20\n",
              "4     26-04-2015 06:40  15--2-26-0 06:40\n",
              "...                ...               ...\n",
              "1995  19-09-2015 08:10  15--2-19-0 08:10\n",
              "1996  21-09-2015 11:20  15--2-21-0 11:20\n",
              "1997  22-09-2015 10:30  15--2-22-0 10:30\n",
              "1998  23-09-2015 17:30  15--2-23-0 17:30\n",
              "1999  24-09-2015 00:10  15--2-24-0 00:10\n",
              "\n",
              "[2000 rows x 2 columns]"
            ]
          },
          "metadata": {
            "tags": []
          },
          "execution_count": 40
        }
      ]
    },
    {
      "cell_type": "code",
      "metadata": {
        "colab": {
          "base_uri": "https://localhost:8080/",
          "height": 422
        },
        "id": "_Lez3Vi6OCW0",
        "outputId": "f15985af-26fb-4112-ec0f-e1fb9e108a8d"
      },
      "source": [
        "#fechas al reves\n",
        "fecha2 = []\n",
        "for k in range(len(df3.Fecha)):\n",
        "  dia = df3.Fecha[k][8:10]\n",
        "  mes = df3.Fecha[k][5:7]\n",
        "  año = df3.Fecha[k][0:4]\n",
        "  hora = df3.Fecha[k][11:]\n",
        "  n_dia = dia+'-'+mes+'-'+año+' '+hora\n",
        "  fecha2.append(n_dia)\n",
        "df3.insert(2,'Fecha2',fecha2,True)\n",
        "df3"
      ],
      "execution_count": null,
      "outputs": [
        {
          "output_type": "execute_result",
          "data": {
            "text/html": [
              "<div>\n",
              "<style scoped>\n",
              "    .dataframe tbody tr th:only-of-type {\n",
              "        vertical-align: middle;\n",
              "    }\n",
              "\n",
              "    .dataframe tbody tr th {\n",
              "        vertical-align: top;\n",
              "    }\n",
              "\n",
              "    .dataframe thead th {\n",
              "        text-align: right;\n",
              "    }\n",
              "</style>\n",
              "<table border=\"1\" class=\"dataframe\">\n",
              "  <thead>\n",
              "    <tr style=\"text-align: right;\">\n",
              "      <th></th>\n",
              "      <th>Fecha</th>\n",
              "      <th>velocidad</th>\n",
              "      <th>Fecha2</th>\n",
              "    </tr>\n",
              "  </thead>\n",
              "  <tbody>\n",
              "    <tr>\n",
              "      <th>0</th>\n",
              "      <td>2015-04-25 00:00</td>\n",
              "      <td>12.134076</td>\n",
              "      <td>25-04-2015 00:00</td>\n",
              "    </tr>\n",
              "    <tr>\n",
              "      <th>1</th>\n",
              "      <td>2015-04-25 00:10</td>\n",
              "      <td>12.134076</td>\n",
              "      <td>25-04-2015 00:10</td>\n",
              "    </tr>\n",
              "    <tr>\n",
              "      <th>2</th>\n",
              "      <td>2015-04-25 00:20</td>\n",
              "      <td>12.134076</td>\n",
              "      <td>25-04-2015 00:20</td>\n",
              "    </tr>\n",
              "    <tr>\n",
              "      <th>3</th>\n",
              "      <td>2015-04-25 00:30</td>\n",
              "      <td>12.134076</td>\n",
              "      <td>25-04-2015 00:30</td>\n",
              "    </tr>\n",
              "    <tr>\n",
              "      <th>4</th>\n",
              "      <td>2015-04-25 00:40</td>\n",
              "      <td>12.134076</td>\n",
              "      <td>25-04-2015 00:40</td>\n",
              "    </tr>\n",
              "    <tr>\n",
              "      <th>...</th>\n",
              "      <td>...</td>\n",
              "      <td>...</td>\n",
              "      <td>...</td>\n",
              "    </tr>\n",
              "    <tr>\n",
              "      <th>22027</th>\n",
              "      <td>2015-09-24 23:10</td>\n",
              "      <td>9.408970</td>\n",
              "      <td>24-09-2015 23:10</td>\n",
              "    </tr>\n",
              "    <tr>\n",
              "      <th>22028</th>\n",
              "      <td>2015-09-24 23:20</td>\n",
              "      <td>9.408970</td>\n",
              "      <td>24-09-2015 23:20</td>\n",
              "    </tr>\n",
              "    <tr>\n",
              "      <th>22029</th>\n",
              "      <td>2015-09-24 23:30</td>\n",
              "      <td>9.408970</td>\n",
              "      <td>24-09-2015 23:30</td>\n",
              "    </tr>\n",
              "    <tr>\n",
              "      <th>22030</th>\n",
              "      <td>2015-09-24 23:40</td>\n",
              "      <td>9.408970</td>\n",
              "      <td>24-09-2015 23:40</td>\n",
              "    </tr>\n",
              "    <tr>\n",
              "      <th>22031</th>\n",
              "      <td>2015-09-24 23:50</td>\n",
              "      <td>9.408970</td>\n",
              "      <td>24-09-2015 23:50</td>\n",
              "    </tr>\n",
              "  </tbody>\n",
              "</table>\n",
              "<p>22032 rows × 3 columns</p>\n",
              "</div>"
            ],
            "text/plain": [
              "                  Fecha  velocidad            Fecha2\n",
              "0      2015-04-25 00:00  12.134076  25-04-2015 00:00\n",
              "1      2015-04-25 00:10  12.134076  25-04-2015 00:10\n",
              "2      2015-04-25 00:20  12.134076  25-04-2015 00:20\n",
              "3      2015-04-25 00:30  12.134076  25-04-2015 00:30\n",
              "4      2015-04-25 00:40  12.134076  25-04-2015 00:40\n",
              "...                 ...        ...               ...\n",
              "22027  2015-09-24 23:10   9.408970  24-09-2015 23:10\n",
              "22028  2015-09-24 23:20   9.408970  24-09-2015 23:20\n",
              "22029  2015-09-24 23:30   9.408970  24-09-2015 23:30\n",
              "22030  2015-09-24 23:40   9.408970  24-09-2015 23:40\n",
              "22031  2015-09-24 23:50   9.408970  24-09-2015 23:50\n",
              "\n",
              "[22032 rows x 3 columns]"
            ]
          },
          "metadata": {
            "tags": []
          },
          "execution_count": 36
        }
      ]
    },
    {
      "cell_type": "code",
      "metadata": {
        "id": "lLfG1sxdOIeP"
      },
      "source": [
        "#creamos un diccionario\n",
        "res2={}\n",
        "res2 = {df3.Fecha2[i]: df3.velocidad[i] for i in range(len(df3))}"
      ],
      "execution_count": null,
      "outputs": []
    },
    {
      "cell_type": "markdown",
      "metadata": {
        "id": "amtyj-wVWPy6"
      },
      "source": [
        "Se añade a los testeos los vientos. "
      ]
    },
    {
      "cell_type": "code",
      "metadata": {
        "colab": {
          "base_uri": "https://localhost:8080/",
          "height": 422
        },
        "id": "J40cy5L3OPbE",
        "outputId": "522da886-d19f-4d34-9ed7-eb381332a74c"
      },
      "source": [
        "ahora_si=[]\n",
        "for k in data_test.Fecha:\n",
        "\tvel = res2[k]\n",
        "\tahora_si.append(vel)\n",
        "\t\n",
        "data_test.insert(1,'viento',ahora_si,True)\n",
        "data_test"
      ],
      "execution_count": null,
      "outputs": [
        {
          "output_type": "execute_result",
          "data": {
            "text/html": [
              "<div>\n",
              "<style scoped>\n",
              "    .dataframe tbody tr th:only-of-type {\n",
              "        vertical-align: middle;\n",
              "    }\n",
              "\n",
              "    .dataframe tbody tr th {\n",
              "        vertical-align: top;\n",
              "    }\n",
              "\n",
              "    .dataframe thead th {\n",
              "        text-align: right;\n",
              "    }\n",
              "</style>\n",
              "<table border=\"1\" class=\"dataframe\">\n",
              "  <thead>\n",
              "    <tr style=\"text-align: right;\">\n",
              "      <th></th>\n",
              "      <th>Fecha</th>\n",
              "      <th>viento</th>\n",
              "      <th>Fecha2</th>\n",
              "    </tr>\n",
              "  </thead>\n",
              "  <tbody>\n",
              "    <tr>\n",
              "      <th>0</th>\n",
              "      <td>26-04-2015 01:50</td>\n",
              "      <td>11.156578</td>\n",
              "      <td>15--2-26-0 01:50</td>\n",
              "    </tr>\n",
              "    <tr>\n",
              "      <th>1</th>\n",
              "      <td>26-04-2015 03:10</td>\n",
              "      <td>10.620681</td>\n",
              "      <td>15--2-26-0 03:10</td>\n",
              "    </tr>\n",
              "    <tr>\n",
              "      <th>2</th>\n",
              "      <td>26-04-2015 04:20</td>\n",
              "      <td>10.220370</td>\n",
              "      <td>15--2-26-0 04:20</td>\n",
              "    </tr>\n",
              "    <tr>\n",
              "      <th>3</th>\n",
              "      <td>26-04-2015 05:20</td>\n",
              "      <td>9.940079</td>\n",
              "      <td>15--2-26-0 05:20</td>\n",
              "    </tr>\n",
              "    <tr>\n",
              "      <th>4</th>\n",
              "      <td>26-04-2015 06:40</td>\n",
              "      <td>9.657193</td>\n",
              "      <td>15--2-26-0 06:40</td>\n",
              "    </tr>\n",
              "    <tr>\n",
              "      <th>...</th>\n",
              "      <td>...</td>\n",
              "      <td>...</td>\n",
              "      <td>...</td>\n",
              "    </tr>\n",
              "    <tr>\n",
              "      <th>1995</th>\n",
              "      <td>19-09-2015 08:10</td>\n",
              "      <td>9.408970</td>\n",
              "      <td>15--2-19-0 08:10</td>\n",
              "    </tr>\n",
              "    <tr>\n",
              "      <th>1996</th>\n",
              "      <td>21-09-2015 11:20</td>\n",
              "      <td>9.408971</td>\n",
              "      <td>15--2-21-0 11:20</td>\n",
              "    </tr>\n",
              "    <tr>\n",
              "      <th>1997</th>\n",
              "      <td>22-09-2015 10:30</td>\n",
              "      <td>9.408971</td>\n",
              "      <td>15--2-22-0 10:30</td>\n",
              "    </tr>\n",
              "    <tr>\n",
              "      <th>1998</th>\n",
              "      <td>23-09-2015 17:30</td>\n",
              "      <td>9.408970</td>\n",
              "      <td>15--2-23-0 17:30</td>\n",
              "    </tr>\n",
              "    <tr>\n",
              "      <th>1999</th>\n",
              "      <td>24-09-2015 00:10</td>\n",
              "      <td>9.408971</td>\n",
              "      <td>15--2-24-0 00:10</td>\n",
              "    </tr>\n",
              "  </tbody>\n",
              "</table>\n",
              "<p>2000 rows × 3 columns</p>\n",
              "</div>"
            ],
            "text/plain": [
              "                 Fecha     viento            Fecha2\n",
              "0     26-04-2015 01:50  11.156578  15--2-26-0 01:50\n",
              "1     26-04-2015 03:10  10.620681  15--2-26-0 03:10\n",
              "2     26-04-2015 04:20  10.220370  15--2-26-0 04:20\n",
              "3     26-04-2015 05:20   9.940079  15--2-26-0 05:20\n",
              "4     26-04-2015 06:40   9.657193  15--2-26-0 06:40\n",
              "...                ...        ...               ...\n",
              "1995  19-09-2015 08:10   9.408970  15--2-19-0 08:10\n",
              "1996  21-09-2015 11:20   9.408971  15--2-21-0 11:20\n",
              "1997  22-09-2015 10:30   9.408971  15--2-22-0 10:30\n",
              "1998  23-09-2015 17:30   9.408970  15--2-23-0 17:30\n",
              "1999  24-09-2015 00:10   9.408971  15--2-24-0 00:10\n",
              "\n",
              "[2000 rows x 3 columns]"
            ]
          },
          "metadata": {
            "tags": []
          },
          "execution_count": 45
        }
      ]
    },
    {
      "cell_type": "code",
      "metadata": {
        "colab": {
          "base_uri": "https://localhost:8080/"
        },
        "id": "crXA0QLhPfdu",
        "outputId": "d1565596-d8e0-4cbc-e036-fba5b68e5bc6"
      },
      "source": [
        "new = data_test[['Fecha','viento']].copy()\n",
        "new.to_csv('data.csv',index=False)\n",
        "!cp data.csv \"drive/My Drive/"
      ],
      "execution_count": null,
      "outputs": [
        {
          "output_type": "stream",
          "text": [
            "/bin/bash: -c: line 0: unexpected EOF while looking for matching `\"'\n",
            "/bin/bash: -c: line 1: syntax error: unexpected end of file\n"
          ],
          "name": "stdout"
        }
      ]
    },
    {
      "cell_type": "code",
      "metadata": {
        "colab": {
          "base_uri": "https://localhost:8080/"
        },
        "id": "Zs900kddjiBa",
        "outputId": "ba05924a-711f-4b3b-db2c-fb6a105b81d8"
      },
      "source": [
        "vamos"
      ],
      "execution_count": null,
      "outputs": [
        {
          "output_type": "execute_result",
          "data": {
            "text/plain": [
              "array([[-1.2141892 ],\n",
              "       [-1.2141892 ],\n",
              "       [-1.07909634],\n",
              "       ...,\n",
              "       [-0.55205774],\n",
              "       [-0.55205774],\n",
              "       [-0.55205774]])"
            ]
          },
          "metadata": {
            "tags": []
          },
          "execution_count": 305
        }
      ]
    },
    {
      "cell_type": "markdown",
      "metadata": {
        "id": "uCIFaYIhvpkf"
      },
      "source": [
        "Se hace un gráfico de dos días posterior al último dato de entrenamiento."
      ]
    },
    {
      "cell_type": "code",
      "metadata": {
        "colab": {
          "base_uri": "https://localhost:8080/",
          "height": 286
        },
        "id": "JxCuMPt5S5aN",
        "outputId": "b1b1ced1-4bcc-4061-c99a-f083d1329f82"
      },
      "source": [
        "#vamos[0:144]\n",
        "#vamos_wanderers = scaler.inverse_transform(vamos)\n",
        "# plt.plot(np.linspace(0,144,144),vamos_wanderers[0:144])\n",
        "# plt.plot(np.linspace(0+144,144+144,144),vamos_wanderers[144:288])\n",
        "plt.plot(vamos_wanderers[0:500])"
      ],
      "execution_count": null,
      "outputs": [
        {
          "output_type": "execute_result",
          "data": {
            "text/plain": [
              "[<matplotlib.lines.Line2D at 0x7f8cc2f23910>]"
            ]
          },
          "metadata": {
            "tags": []
          },
          "execution_count": 47
        },
        {
          "output_type": "display_data",
          "data": {
            "image/png": "[encoded data removed]",
            "text/plain": [
              "<Figure size 432x288 with 1 Axes>"
            ]
          },
          "metadata": {
            "tags": [],
            "needs_background": "light"
          }
        }
      ]
    },
    {
      "cell_type": "markdown",
      "metadata": {
        "id": "QBxernz0vv-S"
      },
      "source": [
        "Se observa que a medida que pasan los timesteps se estaciona en un valor la predicción. Esto ocurre debido a que se crea un efecto avalancha en la red debido a la cantidad de secuencias que se usa en el entrenamiento. "
      ]
    },
    {
      "cell_type": "markdown",
      "metadata": {
        "id": "lL7HvniSswdN"
      },
      "source": [
        "## Regresión lineal"
      ]
    },
    {
      "cell_type": "markdown",
      "metadata": {
        "id": "My-exsPAmgJi"
      },
      "source": [
        "Por último, se emplea una regresión lineal con los datos. Presenta la ventaja de ser muy simple de implementar y para realizarla se utiliza MSE."
      ]
    },
    {
      "cell_type": "code",
      "metadata": {
        "id": "4gEHpBV6wM3h"
      },
      "source": [
        "aux_tr = pd.to_datetime(time_tr).astype(int)/(1e9) \n",
        "aux_val = pd.to_datetime(time_val).astype(int)/(1e9)"
      ],
      "execution_count": null,
      "outputs": []
    },
    {
      "cell_type": "code",
      "metadata": {
        "colab": {
          "base_uri": "https://localhost:8080/"
        },
        "id": "mRmf0vKawQNx",
        "outputId": "1e4f1e4a-5a2f-4b54-e2f7-2e72b9d8c1b9"
      },
      "source": [
        "data_tr.shape, aux_tr.shape"
      ],
      "execution_count": null,
      "outputs": [
        {
          "output_type": "execute_result",
          "data": {
            "text/plain": [
              "((98725, 1), (98725,))"
            ]
          },
          "metadata": {
            "tags": []
          },
          "execution_count": 25
        }
      ]
    },
    {
      "cell_type": "code",
      "metadata": {
        "id": "ghpWyCdFwcaY"
      },
      "source": [
        "scaler = StandardScaler()\n",
        "x_train = scaler.fit_transform(aux_tr.to_numpy().reshape(-1,1))\n",
        "x_test = scaler.transform(aux_val.to_numpy().reshape(-1,1))"
      ],
      "execution_count": null,
      "outputs": []
    },
    {
      "cell_type": "code",
      "metadata": {
        "colab": {
          "base_uri": "https://localhost:8080/"
        },
        "id": "8m5voDddw75i",
        "outputId": "c0ddaa87-701f-40be-fec6-49fbf1aa6bfb"
      },
      "source": [
        "y_train = data_tr\n",
        "y_test = data_val\n",
        "from sklearn.linear_model import LinearRegression\n",
        "from sklearn import metrics\n",
        "model = LinearRegression().fit(x_train,y_train)\n",
        "print(model.score(x_train,y_train))\n",
        "y_pred =model.predict(x_test)"
      ],
      "execution_count": null,
      "outputs": [
        {
          "output_type": "stream",
          "text": [
            "0.0005699674589897397\n"
          ],
          "name": "stdout"
        }
      ]
    },
    {
      "cell_type": "code",
      "metadata": {
        "colab": {
          "base_uri": "https://localhost:8080/"
        },
        "id": "snB0JmL0xW3W",
        "outputId": "7973ed9b-39d8-4815-c4e4-10bb11fc6d42"
      },
      "source": [
        "print('MAE:', metrics.mean_absolute_error(y_test, y_pred))\n",
        "print('MSE:', metrics.mean_squared_error(y_test, y_pred))\n",
        "print('RMSE:', np.sqrt(metrics.mean_squared_error(y_test, y_pred)))"
      ],
      "execution_count": null,
      "outputs": [
        {
          "output_type": "stream",
          "text": [
            "MAE: 3.7546228604817973\n",
            "MSE: 19.880854807421063\n",
            "RMSE: 4.458795219274043\n"
          ],
          "name": "stdout"
        }
      ]
    },
    {
      "cell_type": "code",
      "metadata": {
        "colab": {
          "base_uri": "https://localhost:8080/",
          "height": 594
        },
        "id": "flJ-MT6Yy6XF",
        "outputId": "97a42074-2f6b-4750-bf5e-6bdeb437e0b7"
      },
      "source": [
        "y_pred2 =model.predict(x_train)\n",
        "pred2 = pd.DataFrame(y_pred2)\n",
        "largo = data_train.shape[0]\n",
        "x = np.zeros(largo)\n",
        "plt.figure(figsize=(20, 10))\n",
        "plt.plot(pred2)\n",
        "plt.ylabel('Wind speed')\n",
        "plt.show()"
      ],
      "execution_count": null,
      "outputs": [
        {
          "output_type": "display_data",
          "data": {
            "image/png": "[encoded data removed]",
            "text/plain": [
              "<Figure size 1440x720 with 1 Axes>"
            ]
          },
          "metadata": {
            "tags": []
          }
        }
      ]
    },
    {
      "cell_type": "code",
      "metadata": {
        "colab": {
          "base_uri": "https://localhost:8080/"
        },
        "id": "LDfVi0Kg0z2C",
        "outputId": "ff1486a2-fcec-4b2e-c21b-60039444a03b"
      },
      "source": [
        "data_test = pd.read_csv(path + 'windspeed-testing.csv' ,header=None,engine='python')\n",
        "print(data_test.shape)\n",
        "data_test.head()\n",
        "aux2 = pd.to_datetime(data_test[0]).astype(int)/(1e9)\n",
        "# valor_1 = aux2.iloc[-1]"
      ],
      "execution_count": null,
      "outputs": [
        {
          "output_type": "stream",
          "text": [
            "(2000, 1)\n"
          ],
          "name": "stdout"
        }
      ]
    },
    {
      "cell_type": "code",
      "metadata": {
        "id": "TbK4CfhA2Jil"
      },
      "source": [
        "x_test2 = scaler.transform(aux_val.to_numpy().reshape(-1,1))\n",
        "y_pred3 =model.predict(x_test2)\n",
        "\n",
        "pred3 = pd.DataFrame(y_pred3)"
      ],
      "execution_count": null,
      "outputs": []
    },
    {
      "cell_type": "code",
      "metadata": {
        "colab": {
          "base_uri": "https://localhost:8080/"
        },
        "id": "zRoacBXM3-IW",
        "outputId": "8c4c7129-b540-4a07-a765-7481e832ad7f"
      },
      "source": [
        "pred3.shape, aux2.shape"
      ],
      "execution_count": null,
      "outputs": [
        {
          "output_type": "execute_result",
          "data": {
            "text/plain": [
              "((24681, 1), (2000,))"
            ]
          },
          "metadata": {
            "tags": []
          },
          "execution_count": 46
        }
      ]
    },
    {
      "cell_type": "code",
      "metadata": {
        "colab": {
          "base_uri": "https://localhost:8080/",
          "height": 422
        },
        "id": "_cvqEgpu4gbq",
        "outputId": "b3df2cb6-7540-4aa3-86f4-c9de61a382e6"
      },
      "source": [
        "data_test"
      ],
      "execution_count": null,
      "outputs": [
        {
          "output_type": "execute_result",
          "data": {
            "text/html": [
              "<div>\n",
              "<style scoped>\n",
              "    .dataframe tbody tr th:only-of-type {\n",
              "        vertical-align: middle;\n",
              "    }\n",
              "\n",
              "    .dataframe tbody tr th {\n",
              "        vertical-align: top;\n",
              "    }\n",
              "\n",
              "    .dataframe thead th {\n",
              "        text-align: right;\n",
              "    }\n",
              "</style>\n",
              "<table border=\"1\" class=\"dataframe\">\n",
              "  <thead>\n",
              "    <tr style=\"text-align: right;\">\n",
              "      <th></th>\n",
              "      <th>0</th>\n",
              "    </tr>\n",
              "  </thead>\n",
              "  <tbody>\n",
              "    <tr>\n",
              "      <th>0</th>\n",
              "      <td>26-04-2015 01:50</td>\n",
              "    </tr>\n",
              "    <tr>\n",
              "      <th>1</th>\n",
              "      <td>26-04-2015 03:10</td>\n",
              "    </tr>\n",
              "    <tr>\n",
              "      <th>2</th>\n",
              "      <td>26-04-2015 04:20</td>\n",
              "    </tr>\n",
              "    <tr>\n",
              "      <th>3</th>\n",
              "      <td>26-04-2015 05:20</td>\n",
              "    </tr>\n",
              "    <tr>\n",
              "      <th>4</th>\n",
              "      <td>26-04-2015 06:40</td>\n",
              "    </tr>\n",
              "    <tr>\n",
              "      <th>...</th>\n",
              "      <td>...</td>\n",
              "    </tr>\n",
              "    <tr>\n",
              "      <th>1995</th>\n",
              "      <td>19-09-2015 08:10</td>\n",
              "    </tr>\n",
              "    <tr>\n",
              "      <th>1996</th>\n",
              "      <td>21-09-2015 11:20</td>\n",
              "    </tr>\n",
              "    <tr>\n",
              "      <th>1997</th>\n",
              "      <td>22-09-2015 10:30</td>\n",
              "    </tr>\n",
              "    <tr>\n",
              "      <th>1998</th>\n",
              "      <td>23-09-2015 17:30</td>\n",
              "    </tr>\n",
              "    <tr>\n",
              "      <th>1999</th>\n",
              "      <td>24-09-2015 00:10</td>\n",
              "    </tr>\n",
              "  </tbody>\n",
              "</table>\n",
              "<p>2000 rows × 1 columns</p>\n",
              "</div>"
            ],
            "text/plain": [
              "                     0\n",
              "0     26-04-2015 01:50\n",
              "1     26-04-2015 03:10\n",
              "2     26-04-2015 04:20\n",
              "3     26-04-2015 05:20\n",
              "4     26-04-2015 06:40\n",
              "...                ...\n",
              "1995  19-09-2015 08:10\n",
              "1996  21-09-2015 11:20\n",
              "1997  22-09-2015 10:30\n",
              "1998  23-09-2015 17:30\n",
              "1999  24-09-2015 00:10\n",
              "\n",
              "[2000 rows x 1 columns]"
            ]
          },
          "metadata": {
            "tags": []
          },
          "execution_count": 54
        }
      ]
    },
    {
      "cell_type": "code",
      "metadata": {
        "colab": {
          "base_uri": "https://localhost:8080/",
          "height": 422
        },
        "id": "ThblIwpe5dNf",
        "outputId": "25b1c016-f776-4f7b-f957-8c67467a8b77"
      },
      "source": [
        "numero = 21381+350+4\n",
        "date = dt.datetime(2015, 4, 26) + dt.timedelta(minutes=50) + dt.timedelta(hours=1)\n",
        "super_date = pd.date_range(date, periods=(numero), freq='10min')\n",
        "data_time = super_date.strftime(\"%Y-%m-%d %H:%M\")\n",
        "df2 = pd.DataFrame(data_time)\n",
        "df2.columns = ['Fecha']\n",
        "df2"
      ],
      "execution_count": null,
      "outputs": [
        {
          "output_type": "execute_result",
          "data": {
            "text/html": [
              "<div>\n",
              "<style scoped>\n",
              "    .dataframe tbody tr th:only-of-type {\n",
              "        vertical-align: middle;\n",
              "    }\n",
              "\n",
              "    .dataframe tbody tr th {\n",
              "        vertical-align: top;\n",
              "    }\n",
              "\n",
              "    .dataframe thead th {\n",
              "        text-align: right;\n",
              "    }\n",
              "</style>\n",
              "<table border=\"1\" class=\"dataframe\">\n",
              "  <thead>\n",
              "    <tr style=\"text-align: right;\">\n",
              "      <th></th>\n",
              "      <th>Fecha</th>\n",
              "    </tr>\n",
              "  </thead>\n",
              "  <tbody>\n",
              "    <tr>\n",
              "      <th>0</th>\n",
              "      <td>2015-04-26 01:50</td>\n",
              "    </tr>\n",
              "    <tr>\n",
              "      <th>1</th>\n",
              "      <td>2015-04-26 02:00</td>\n",
              "    </tr>\n",
              "    <tr>\n",
              "      <th>2</th>\n",
              "      <td>2015-04-26 02:10</td>\n",
              "    </tr>\n",
              "    <tr>\n",
              "      <th>3</th>\n",
              "      <td>2015-04-26 02:20</td>\n",
              "    </tr>\n",
              "    <tr>\n",
              "      <th>4</th>\n",
              "      <td>2015-04-26 02:30</td>\n",
              "    </tr>\n",
              "    <tr>\n",
              "      <th>...</th>\n",
              "      <td>...</td>\n",
              "    </tr>\n",
              "    <tr>\n",
              "      <th>21730</th>\n",
              "      <td>2015-09-23 23:30</td>\n",
              "    </tr>\n",
              "    <tr>\n",
              "      <th>21731</th>\n",
              "      <td>2015-09-23 23:40</td>\n",
              "    </tr>\n",
              "    <tr>\n",
              "      <th>21732</th>\n",
              "      <td>2015-09-23 23:50</td>\n",
              "    </tr>\n",
              "    <tr>\n",
              "      <th>21733</th>\n",
              "      <td>2015-09-24 00:00</td>\n",
              "    </tr>\n",
              "    <tr>\n",
              "      <th>21734</th>\n",
              "      <td>2015-09-24 00:10</td>\n",
              "    </tr>\n",
              "  </tbody>\n",
              "</table>\n",
              "<p>21735 rows × 1 columns</p>\n",
              "</div>"
            ],
            "text/plain": [
              "                  Fecha\n",
              "0      2015-04-26 01:50\n",
              "1      2015-04-26 02:00\n",
              "2      2015-04-26 02:10\n",
              "3      2015-04-26 02:20\n",
              "4      2015-04-26 02:30\n",
              "...                 ...\n",
              "21730  2015-09-23 23:30\n",
              "21731  2015-09-23 23:40\n",
              "21732  2015-09-23 23:50\n",
              "21733  2015-09-24 00:00\n",
              "21734  2015-09-24 00:10\n",
              "\n",
              "[21735 rows x 1 columns]"
            ]
          },
          "metadata": {
            "tags": []
          },
          "execution_count": 88
        }
      ]
    },
    {
      "cell_type": "code",
      "metadata": {
        "colab": {
          "base_uri": "https://localhost:8080/",
          "height": 422
        },
        "id": "sXI7dgkz_DrA",
        "outputId": "0b348828-901e-4748-ba8b-b9a1b81923c9"
      },
      "source": [
        "fecha2 = []\n",
        "for k in range(len(df2.Fecha)):\n",
        "  dia = df2.Fecha[k][8:10]\n",
        "  mes = df2.Fecha[k][5:7]\n",
        "  año = df2.Fecha[k][0:4]\n",
        "  hora = df2.Fecha[k][11:]\n",
        "  n_dia = dia+'-'+mes+'-'+año+' '+hora\n",
        "  fecha2.append(n_dia)\n",
        "df2.insert(1,'Fecha2',fecha2,True)\n",
        "df2"
      ],
      "execution_count": null,
      "outputs": [
        {
          "output_type": "execute_result",
          "data": {
            "text/html": [
              "<div>\n",
              "<style scoped>\n",
              "    .dataframe tbody tr th:only-of-type {\n",
              "        vertical-align: middle;\n",
              "    }\n",
              "\n",
              "    .dataframe tbody tr th {\n",
              "        vertical-align: top;\n",
              "    }\n",
              "\n",
              "    .dataframe thead th {\n",
              "        text-align: right;\n",
              "    }\n",
              "</style>\n",
              "<table border=\"1\" class=\"dataframe\">\n",
              "  <thead>\n",
              "    <tr style=\"text-align: right;\">\n",
              "      <th></th>\n",
              "      <th>Fecha</th>\n",
              "      <th>Fecha2</th>\n",
              "    </tr>\n",
              "  </thead>\n",
              "  <tbody>\n",
              "    <tr>\n",
              "      <th>0</th>\n",
              "      <td>2015-04-26 01:50</td>\n",
              "      <td>26-04-2015 01:50</td>\n",
              "    </tr>\n",
              "    <tr>\n",
              "      <th>1</th>\n",
              "      <td>2015-04-26 02:00</td>\n",
              "      <td>26-04-2015 02:00</td>\n",
              "    </tr>\n",
              "    <tr>\n",
              "      <th>2</th>\n",
              "      <td>2015-04-26 02:10</td>\n",
              "      <td>26-04-2015 02:10</td>\n",
              "    </tr>\n",
              "    <tr>\n",
              "      <th>3</th>\n",
              "      <td>2015-04-26 02:20</td>\n",
              "      <td>26-04-2015 02:20</td>\n",
              "    </tr>\n",
              "    <tr>\n",
              "      <th>4</th>\n",
              "      <td>2015-04-26 02:30</td>\n",
              "      <td>26-04-2015 02:30</td>\n",
              "    </tr>\n",
              "    <tr>\n",
              "      <th>...</th>\n",
              "      <td>...</td>\n",
              "      <td>...</td>\n",
              "    </tr>\n",
              "    <tr>\n",
              "      <th>21730</th>\n",
              "      <td>2015-09-23 23:30</td>\n",
              "      <td>23-09-2015 23:30</td>\n",
              "    </tr>\n",
              "    <tr>\n",
              "      <th>21731</th>\n",
              "      <td>2015-09-23 23:40</td>\n",
              "      <td>23-09-2015 23:40</td>\n",
              "    </tr>\n",
              "    <tr>\n",
              "      <th>21732</th>\n",
              "      <td>2015-09-23 23:50</td>\n",
              "      <td>23-09-2015 23:50</td>\n",
              "    </tr>\n",
              "    <tr>\n",
              "      <th>21733</th>\n",
              "      <td>2015-09-24 00:00</td>\n",
              "      <td>24-09-2015 00:00</td>\n",
              "    </tr>\n",
              "    <tr>\n",
              "      <th>21734</th>\n",
              "      <td>2015-09-24 00:10</td>\n",
              "      <td>24-09-2015 00:10</td>\n",
              "    </tr>\n",
              "  </tbody>\n",
              "</table>\n",
              "<p>21735 rows × 2 columns</p>\n",
              "</div>"
            ],
            "text/plain": [
              "                  Fecha            Fecha2\n",
              "0      2015-04-26 01:50  26-04-2015 01:50\n",
              "1      2015-04-26 02:00  26-04-2015 02:00\n",
              "2      2015-04-26 02:10  26-04-2015 02:10\n",
              "3      2015-04-26 02:20  26-04-2015 02:20\n",
              "4      2015-04-26 02:30  26-04-2015 02:30\n",
              "...                 ...               ...\n",
              "21730  2015-09-23 23:30  23-09-2015 23:30\n",
              "21731  2015-09-23 23:40  23-09-2015 23:40\n",
              "21732  2015-09-23 23:50  23-09-2015 23:50\n",
              "21733  2015-09-24 00:00  24-09-2015 00:00\n",
              "21734  2015-09-24 00:10  24-09-2015 00:10\n",
              "\n",
              "[21735 rows x 2 columns]"
            ]
          },
          "metadata": {
            "tags": []
          },
          "execution_count": 89
        }
      ]
    },
    {
      "cell_type": "code",
      "metadata": {
        "colab": {
          "base_uri": "https://localhost:8080/",
          "height": 422
        },
        "id": "_YnlSNQL_bRV",
        "outputId": "2256e15a-506e-43cf-954e-31b8d3eb5b30"
      },
      "source": [
        "data_test.insert(1,'Fecha_num',aux2,True)\n",
        "data_test"
      ],
      "execution_count": null,
      "outputs": [
        {
          "output_type": "execute_result",
          "data": {
            "text/html": [
              "<div>\n",
              "<style scoped>\n",
              "    .dataframe tbody tr th:only-of-type {\n",
              "        vertical-align: middle;\n",
              "    }\n",
              "\n",
              "    .dataframe tbody tr th {\n",
              "        vertical-align: top;\n",
              "    }\n",
              "\n",
              "    .dataframe thead th {\n",
              "        text-align: right;\n",
              "    }\n",
              "</style>\n",
              "<table border=\"1\" class=\"dataframe\">\n",
              "  <thead>\n",
              "    <tr style=\"text-align: right;\">\n",
              "      <th></th>\n",
              "      <th>0</th>\n",
              "      <th>Fecha_num</th>\n",
              "    </tr>\n",
              "  </thead>\n",
              "  <tbody>\n",
              "    <tr>\n",
              "      <th>0</th>\n",
              "      <td>26-04-2015 01:50</td>\n",
              "      <td>1.430013e+09</td>\n",
              "    </tr>\n",
              "    <tr>\n",
              "      <th>1</th>\n",
              "      <td>26-04-2015 03:10</td>\n",
              "      <td>1.430018e+09</td>\n",
              "    </tr>\n",
              "    <tr>\n",
              "      <th>2</th>\n",
              "      <td>26-04-2015 04:20</td>\n",
              "      <td>1.430022e+09</td>\n",
              "    </tr>\n",
              "    <tr>\n",
              "      <th>3</th>\n",
              "      <td>26-04-2015 05:20</td>\n",
              "      <td>1.430026e+09</td>\n",
              "    </tr>\n",
              "    <tr>\n",
              "      <th>4</th>\n",
              "      <td>26-04-2015 06:40</td>\n",
              "      <td>1.430030e+09</td>\n",
              "    </tr>\n",
              "    <tr>\n",
              "      <th>...</th>\n",
              "      <td>...</td>\n",
              "      <td>...</td>\n",
              "    </tr>\n",
              "    <tr>\n",
              "      <th>1995</th>\n",
              "      <td>19-09-2015 08:10</td>\n",
              "      <td>1.442650e+09</td>\n",
              "    </tr>\n",
              "    <tr>\n",
              "      <th>1996</th>\n",
              "      <td>21-09-2015 11:20</td>\n",
              "      <td>1.442834e+09</td>\n",
              "    </tr>\n",
              "    <tr>\n",
              "      <th>1997</th>\n",
              "      <td>22-09-2015 10:30</td>\n",
              "      <td>1.442918e+09</td>\n",
              "    </tr>\n",
              "    <tr>\n",
              "      <th>1998</th>\n",
              "      <td>23-09-2015 17:30</td>\n",
              "      <td>1.443029e+09</td>\n",
              "    </tr>\n",
              "    <tr>\n",
              "      <th>1999</th>\n",
              "      <td>24-09-2015 00:10</td>\n",
              "      <td>1.443053e+09</td>\n",
              "    </tr>\n",
              "  </tbody>\n",
              "</table>\n",
              "<p>2000 rows × 2 columns</p>\n",
              "</div>"
            ],
            "text/plain": [
              "                     0     Fecha_num\n",
              "0     26-04-2015 01:50  1.430013e+09\n",
              "1     26-04-2015 03:10  1.430018e+09\n",
              "2     26-04-2015 04:20  1.430022e+09\n",
              "3     26-04-2015 05:20  1.430026e+09\n",
              "4     26-04-2015 06:40  1.430030e+09\n",
              "...                ...           ...\n",
              "1995  19-09-2015 08:10  1.442650e+09\n",
              "1996  21-09-2015 11:20  1.442834e+09\n",
              "1997  22-09-2015 10:30  1.442918e+09\n",
              "1998  23-09-2015 17:30  1.443029e+09\n",
              "1999  24-09-2015 00:10  1.443053e+09\n",
              "\n",
              "[2000 rows x 2 columns]"
            ]
          },
          "metadata": {
            "tags": []
          },
          "execution_count": 94
        }
      ]
    },
    {
      "cell_type": "code",
      "metadata": {
        "id": "v6UTOUbmDDd1"
      },
      "source": [
        "x_test_final = scaler.transform(aux2.to_numpy().reshape(-1,1))"
      ],
      "execution_count": null,
      "outputs": []
    },
    {
      "cell_type": "code",
      "metadata": {
        "id": "FCKpCitlEzYT"
      },
      "source": [
        "prediccion =model.predict(x_test_final)"
      ],
      "execution_count": null,
      "outputs": []
    },
    {
      "cell_type": "code",
      "metadata": {
        "colab": {
          "base_uri": "https://localhost:8080/",
          "height": 422
        },
        "id": "7NV7xhOjE_HB",
        "outputId": "7bbb0143-83a9-4b0c-cb95-a5a352124971"
      },
      "source": [
        "data_test.insert(2,'viento',prediccion,True)\n",
        "data_test"
      ],
      "execution_count": null,
      "outputs": [
        {
          "output_type": "execute_result",
          "data": {
            "text/html": [
              "<div>\n",
              "<style scoped>\n",
              "    .dataframe tbody tr th:only-of-type {\n",
              "        vertical-align: middle;\n",
              "    }\n",
              "\n",
              "    .dataframe tbody tr th {\n",
              "        vertical-align: top;\n",
              "    }\n",
              "\n",
              "    .dataframe thead th {\n",
              "        text-align: right;\n",
              "    }\n",
              "</style>\n",
              "<table border=\"1\" class=\"dataframe\">\n",
              "  <thead>\n",
              "    <tr style=\"text-align: right;\">\n",
              "      <th></th>\n",
              "      <th>0</th>\n",
              "      <th>Fecha_num</th>\n",
              "      <th>viento</th>\n",
              "    </tr>\n",
              "  </thead>\n",
              "  <tbody>\n",
              "    <tr>\n",
              "      <th>0</th>\n",
              "      <td>26-04-2015 01:50</td>\n",
              "      <td>1.430013e+09</td>\n",
              "      <td>7.508452</td>\n",
              "    </tr>\n",
              "    <tr>\n",
              "      <th>1</th>\n",
              "      <td>26-04-2015 03:10</td>\n",
              "      <td>1.430018e+09</td>\n",
              "      <td>7.508423</td>\n",
              "    </tr>\n",
              "    <tr>\n",
              "      <th>2</th>\n",
              "      <td>26-04-2015 04:20</td>\n",
              "      <td>1.430022e+09</td>\n",
              "      <td>7.508397</td>\n",
              "    </tr>\n",
              "    <tr>\n",
              "      <th>3</th>\n",
              "      <td>26-04-2015 05:20</td>\n",
              "      <td>1.430026e+09</td>\n",
              "      <td>7.508374</td>\n",
              "    </tr>\n",
              "    <tr>\n",
              "      <th>4</th>\n",
              "      <td>26-04-2015 06:40</td>\n",
              "      <td>1.430030e+09</td>\n",
              "      <td>7.508345</td>\n",
              "    </tr>\n",
              "    <tr>\n",
              "      <th>...</th>\n",
              "      <td>...</td>\n",
              "      <td>...</td>\n",
              "      <td>...</td>\n",
              "    </tr>\n",
              "    <tr>\n",
              "      <th>1995</th>\n",
              "      <td>19-09-2015 08:10</td>\n",
              "      <td>1.442650e+09</td>\n",
              "      <td>7.430090</td>\n",
              "    </tr>\n",
              "    <tr>\n",
              "      <th>1996</th>\n",
              "      <td>21-09-2015 11:20</td>\n",
              "      <td>1.442834e+09</td>\n",
              "      <td>7.428948</td>\n",
              "    </tr>\n",
              "    <tr>\n",
              "      <th>1997</th>\n",
              "      <td>22-09-2015 10:30</td>\n",
              "      <td>1.442918e+09</td>\n",
              "      <td>7.428431</td>\n",
              "    </tr>\n",
              "    <tr>\n",
              "      <th>1998</th>\n",
              "      <td>23-09-2015 17:30</td>\n",
              "      <td>1.443029e+09</td>\n",
              "      <td>7.427739</td>\n",
              "    </tr>\n",
              "    <tr>\n",
              "      <th>1999</th>\n",
              "      <td>24-09-2015 00:10</td>\n",
              "      <td>1.443053e+09</td>\n",
              "      <td>7.427590</td>\n",
              "    </tr>\n",
              "  </tbody>\n",
              "</table>\n",
              "<p>2000 rows × 3 columns</p>\n",
              "</div>"
            ],
            "text/plain": [
              "                     0     Fecha_num    viento\n",
              "0     26-04-2015 01:50  1.430013e+09  7.508452\n",
              "1     26-04-2015 03:10  1.430018e+09  7.508423\n",
              "2     26-04-2015 04:20  1.430022e+09  7.508397\n",
              "3     26-04-2015 05:20  1.430026e+09  7.508374\n",
              "4     26-04-2015 06:40  1.430030e+09  7.508345\n",
              "...                ...           ...       ...\n",
              "1995  19-09-2015 08:10  1.442650e+09  7.430090\n",
              "1996  21-09-2015 11:20  1.442834e+09  7.428948\n",
              "1997  22-09-2015 10:30  1.442918e+09  7.428431\n",
              "1998  23-09-2015 17:30  1.443029e+09  7.427739\n",
              "1999  24-09-2015 00:10  1.443053e+09  7.427590\n",
              "\n",
              "[2000 rows x 3 columns]"
            ]
          },
          "metadata": {
            "tags": []
          },
          "execution_count": 99
        }
      ]
    },
    {
      "cell_type": "code",
      "metadata": {
        "id": "8O8GTHVxF1Uq"
      },
      "source": [
        "new = data_test[[0,'viento']].copy()"
      ],
      "execution_count": null,
      "outputs": []
    },
    {
      "cell_type": "code",
      "metadata": {
        "colab": {
          "base_uri": "https://localhost:8080/",
          "height": 422
        },
        "id": "PDAJXPHsGHa3",
        "outputId": "6978b30e-3d6d-47a2-9c8a-ce7120cc8e63"
      },
      "source": [
        "new"
      ],
      "execution_count": null,
      "outputs": [
        {
          "output_type": "execute_result",
          "data": {
            "text/html": [
              "<div>\n",
              "<style scoped>\n",
              "    .dataframe tbody tr th:only-of-type {\n",
              "        vertical-align: middle;\n",
              "    }\n",
              "\n",
              "    .dataframe tbody tr th {\n",
              "        vertical-align: top;\n",
              "    }\n",
              "\n",
              "    .dataframe thead th {\n",
              "        text-align: right;\n",
              "    }\n",
              "</style>\n",
              "<table border=\"1\" class=\"dataframe\">\n",
              "  <thead>\n",
              "    <tr style=\"text-align: right;\">\n",
              "      <th></th>\n",
              "      <th>0</th>\n",
              "      <th>viento</th>\n",
              "    </tr>\n",
              "  </thead>\n",
              "  <tbody>\n",
              "    <tr>\n",
              "      <th>0</th>\n",
              "      <td>26-04-2015 01:50</td>\n",
              "      <td>7.508452</td>\n",
              "    </tr>\n",
              "    <tr>\n",
              "      <th>1</th>\n",
              "      <td>26-04-2015 03:10</td>\n",
              "      <td>7.508423</td>\n",
              "    </tr>\n",
              "    <tr>\n",
              "      <th>2</th>\n",
              "      <td>26-04-2015 04:20</td>\n",
              "      <td>7.508397</td>\n",
              "    </tr>\n",
              "    <tr>\n",
              "      <th>3</th>\n",
              "      <td>26-04-2015 05:20</td>\n",
              "      <td>7.508374</td>\n",
              "    </tr>\n",
              "    <tr>\n",
              "      <th>4</th>\n",
              "      <td>26-04-2015 06:40</td>\n",
              "      <td>7.508345</td>\n",
              "    </tr>\n",
              "    <tr>\n",
              "      <th>...</th>\n",
              "      <td>...</td>\n",
              "      <td>...</td>\n",
              "    </tr>\n",
              "    <tr>\n",
              "      <th>1995</th>\n",
              "      <td>19-09-2015 08:10</td>\n",
              "      <td>7.430090</td>\n",
              "    </tr>\n",
              "    <tr>\n",
              "      <th>1996</th>\n",
              "      <td>21-09-2015 11:20</td>\n",
              "      <td>7.428948</td>\n",
              "    </tr>\n",
              "    <tr>\n",
              "      <th>1997</th>\n",
              "      <td>22-09-2015 10:30</td>\n",
              "      <td>7.428431</td>\n",
              "    </tr>\n",
              "    <tr>\n",
              "      <th>1998</th>\n",
              "      <td>23-09-2015 17:30</td>\n",
              "      <td>7.427739</td>\n",
              "    </tr>\n",
              "    <tr>\n",
              "      <th>1999</th>\n",
              "      <td>24-09-2015 00:10</td>\n",
              "      <td>7.427590</td>\n",
              "    </tr>\n",
              "  </tbody>\n",
              "</table>\n",
              "<p>2000 rows × 2 columns</p>\n",
              "</div>"
            ],
            "text/plain": [
              "                     0    viento\n",
              "0     26-04-2015 01:50  7.508452\n",
              "1     26-04-2015 03:10  7.508423\n",
              "2     26-04-2015 04:20  7.508397\n",
              "3     26-04-2015 05:20  7.508374\n",
              "4     26-04-2015 06:40  7.508345\n",
              "...                ...       ...\n",
              "1995  19-09-2015 08:10  7.430090\n",
              "1996  21-09-2015 11:20  7.428948\n",
              "1997  22-09-2015 10:30  7.428431\n",
              "1998  23-09-2015 17:30  7.427739\n",
              "1999  24-09-2015 00:10  7.427590\n",
              "\n",
              "[2000 rows x 2 columns]"
            ]
          },
          "metadata": {
            "tags": []
          },
          "execution_count": 101
        }
      ]
    },
    {
      "cell_type": "code",
      "metadata": {
        "id": "ekNNDMkiGmei"
      },
      "source": [
        "new.to_csv('data.csv',index=False)\n",
        "!cp data.csv \"drive/My Drive/\""
      ],
      "execution_count": null,
      "outputs": []
    },
    {
      "cell_type": "markdown",
      "metadata": {
        "id": "Au_YFmKqQziC"
      },
      "source": [
        "# Conclusiones"
      ]
    },
    {
      "cell_type": "markdown",
      "metadata": {
        "id": "pXvgs3smQ5X2"
      },
      "source": [
        "Al realizar los submission en la página del desafío kaggle, se obtuvo que la regresión lineal obtuvo un desempeño mejor que la red LSTM, por una pequeña diferencia. El resultado es interesante debido a la simplicidad que resulta una regresión lineal y el poco tiempo que demora en crearse, en constraste del largo tiempo que se debe invertir en entrenar una red recurrente. Además, se observa que la red creada converge a un valor, lo que da a entender que se produce explosión de gradiente y la red deja de aprender.\n",
        "\n",
        "Opciones interesantes de investigar puede haber sido aumentar la profundidad de las redes neuronales, aunque esto requiera un tiempo considerable. A su vez, se podrían haber añadido más parámetros a la entrada, como la media del viento en el mes u hora correspondiente, de esta forma, la red hubiera contado con más contexto para realizar la predicción."
      ]
    }
  ]
}